{
 "cells": [
  {
   "cell_type": "markdown",
   "metadata": {},
   "source": [
    "# Miniproject 2: Melody generation\n",
    "\n",
    "## Introduction\n",
    "\n",
    "### Description\n",
    "\n",
    "To develop a model employing ANN on real-world data requires going through several major steps, each of which with important design choices that directly impact the end results. In this project, we guide you through these choices starting from a large database of [Irish folk melodies](https://github.com/IraKorshunova/folk-rnn/tree/master/data) to your own model of symbolic music composition. \n",
    "\n",
    "\n",
    "### Prerequisites\n",
    "\n",
    "- You should have a running installation of [tensorflow](https://www.tensorflow.org/install/) and [keras](https://keras.io/).\n",
    "- You should know the concepts \"recurrent neural networks\", \"LSTM\", \"training and validation data\", \"overfitting\" and \"early stopping\".\n",
    "\n",
    "### What you will learn\n",
    "\n",
    "- You will be guided through a data processing procedure and understand the importance of design choices in ANN modeling\n",
    "- You will learn how to define recurrent neural networks in keras and fit them to data.\n",
    "- You will be guided through a prototyping procedure for the application of deep learning to a specific domain.\n",
    "- You will get in contact with concepts discussed later in the lecture, like \"overfitting\", \"LSTM network\", and \"Generative model\".\n",
    "- You will learn to be more patient :) Some fits may take your computer quite a bit of time; run them over night.\n",
    "\n",
    "### Evaluation criteria\n",
    "\n",
    "The evaluation is (mostly) based on the figures you submit and your answer sentences. \n",
    "We will only do random tests of your code and not re-run the full notebook. Please ensure that your notebook is fully executed before handing it in. "
   ]
  },
  {
   "cell_type": "markdown",
   "metadata": {},
   "source": [
    "## Functions and imports\n",
    "\n",
    "For your convenience we import some libraries and provide some functions below. Some libraries (`midi` and `music21==5.1.0`) should be added. If you work with the docker image, pull it `docker pull zifeo/artificial-neural-networks:cpu` before to get the latest version where these libraries are added and stop/relaunch the container (as stated in the instructions https://github.com/zifeo/artificial-neural-networks). If you work locally, be sure to import them. If you do not find the midi library for python3, install it with `python setup.py install` inside the `python3-midi` folder after cloning https://github.com/louisabraham/python3-midi.git.\n",
    "\n",
    "Finally, fill in your sciper number(s) for the random seed and simply run the following cell."
   ]
  },
  {
   "cell_type": "code",
   "execution_count": 1,
   "metadata": {},
   "outputs": [
    {
     "name": "stderr",
     "output_type": "stream",
     "text": [
      "Using TensorFlow backend.\n"
     ]
    }
   ],
   "source": [
    "sciper = {'student_1': 236838, \n",
    "          'student_2': 234445}\n",
    "seed = sciper['student_1']+sciper['student_2']\n",
    "\n",
    "%matplotlib inline\n",
    "\n",
    "import numpy as np\n",
    "import matplotlib.pyplot as plt\n",
    "import os, sys\n",
    "\n",
    "plt.rcParams['font.size'] = 28\n",
    "plt.style.use('ggplot')\n",
    "plt.rcParams[\"axes.grid\"] = False\n",
    "c = plt.rcParams['axes.prop_cycle'].by_key()['color']\n",
    "plt.rcParams['figure.figsize'] = 8, 4\n",
    "\n",
    "import keras\n",
    "from keras.models import Model, load_model\n",
    "from keras.layers import Input, Masking, TimeDistributed, Dense, Concatenate, Dropout, LSTM, GRU, SimpleRNN\n",
    "from keras.optimizers import Adam\n",
    "from keras.utils import np_utils\n",
    "from keras.preprocessing.sequence import pad_sequences\n",
    "from keras.callbacks import ModelCheckpoint\n",
    "\n",
    "import midi\n",
    "import music21\n",
    "\n",
    "import json"
   ]
  },
  {
   "cell_type": "code",
   "execution_count": 2,
   "metadata": {},
   "outputs": [],
   "source": [
    "def plotMelody(P, T, dictionaries, PrP=None, PrT=None, H=None):\n",
    "    \"\"\"\n",
    "    P: The pitch array (integer representation) or matrix (one-hot encoding)\n",
    "    T: The duration array (integer representation) or matrix (one-hot encoding)\n",
    "    dictionaries: The dictionaries relating integer to a pitch or duration\n",
    "    PrP: (Optional) If provided with PrT, plot the transition probabilities\n",
    "    PrT: (Optional) If provided with PrP, plot the transition probabilities\n",
    "    H: (Optional) Add a plot with the hidden state dynamic sorted by frequency\n",
    "    \"\"\"\n",
    "    P = np.asarray(P)\n",
    "    T = np.asarray(T)\n",
    "    if len(P.shape) == 1:#if array\n",
    "        P = np_utils.to_categorical(P, len(dictionaries['P']))\n",
    "    if len(T.shape) == 1:#if array\n",
    "        T = np_utils.to_categorical(T, len(dictionaries['T']))\n",
    "    \n",
    "    xlim = [-1,np.where(P==1)[0][-1]+1]\n",
    "    \n",
    "    activeidxes = np.where(np.sum(P, axis=0)>1.)[0]\n",
    "    plt.figure(figsize=(8,4))\n",
    "    if PrP is not None:\n",
    "        targets = np.where(P[:,activeidxes]==1)\n",
    "        plt.imshow(PrP[:,activeidxes].T, origin='lower', aspect='auto', interpolation='nearest', cmap=plt.cm.gray_r, vmin=0, vmax=1)\n",
    "        plt.scatter(targets[0]-1,targets[1], color='red',s=10, marker='.') \n",
    "    else:\n",
    "        plt.imshow(P[:,activeidxes].T, origin='lower', aspect='auto', interpolation='nearest', cmap=plt.cm.gray_r, vmin=0, vmax=1)\n",
    "    plt.ylim([-0.5,len(activeidxes)-0.5])\n",
    "    plt.yticks(range(len(activeidxes)),[dictionaries[\"P\"][i] for i in activeidxes])\n",
    "    plt.tight_layout()\n",
    "    plt.xlabel(\"$n$\")\n",
    "    plt.ylabel(\"$P[n]$\")\n",
    "    plt.xlim(xlim)\n",
    "    plt.show()\n",
    "    \n",
    "    activeidxes = np.where(np.sum(T, axis=0)>1.)[0]\n",
    "    plt.figure(figsize=(8,4))\n",
    "    if PrT is not None:\n",
    "        targets = np.where(T[:,activeidxes]==1)\n",
    "        plt.imshow(PrT[:,activeidxes].T, origin='lower', aspect='auto', interpolation='nearest', cmap=plt.cm.gray_r, vmin=0, vmax=1)\n",
    "        plt.scatter(targets[0]-1,targets[1], color='red',s=10, marker='.')\n",
    "    else:\n",
    "        plt.imshow(T[:,activeidxes].T, origin='lower', aspect='auto', interpolation='nearest', cmap=plt.cm.gray_r, vmin=0, vmax=1)\n",
    "    plt.ylim([-0.5,len(activeidxes)-0.5])\n",
    "    plt.yticks(range(len(activeidxes)),[dictionaries[\"T\"][i] for i in activeidxes])\n",
    "    plt.tight_layout()\n",
    "    plt.xlabel(\"$n$\")\n",
    "    plt.ylabel(\"$T[n]$\")\n",
    "    plt.xlim(xlim)\n",
    "    plt.show()\n",
    "    \n",
    "    \n",
    "    if H is not None:\n",
    "        diff = np.mean([[abs(j-i) for i,j in zip(H[:xlim[1]-1,k], H[1:xlim[1],k])] for k in range(H.shape[1])], axis=1)\n",
    "        sortidx = np.argsort(-diff)\n",
    "        H = H[:,sortidx]\n",
    "        plt.figure(figsize=(8,4))\n",
    "        plt.imshow(H.T, origin='lower', aspect='auto', interpolation='nearest', cmap=plt.cm.seismic, vmin=-1, vmax=1)\n",
    "        plt.xlim([-1,np.where(T==1)[0][-1]+1])\n",
    "        plt.tight_layout()\n",
    "        plt.xlabel(\"$n$\")\n",
    "        plt.ylabel(\"$H[n]$\")\n",
    "        plt.show()\n",
    "\n",
    "\n",
    "def plotLearningCurves(History):\n",
    "    \n",
    "    log = History.history\n",
    "    \n",
    "    plt.figure(figsize=(8,4))\n",
    "    plt.plot(log['YP_loss'], '--', c=c[0], label='Pitch train loss')\n",
    "    plt.plot(log['val_YP_loss'], c=c[0], label='Pitch val loss')\n",
    "    \n",
    "    plt.plot(log['YT_loss'], '--', c=c[1], label='Dur train loss')\n",
    "    plt.plot(log['val_YT_loss'], c=c[1], label='Dur val loss')\n",
    "    plt.legend(loc='best')\n",
    "    \n",
    "    plt.figure(figsize=(8,4))\n",
    "    plt.plot(log['YP_acc'], '--', c=c[0], label='Pitch train acc')\n",
    "    plt.plot(log['val_YP_acc'], c=c[0], label='Pitch val acc')\n",
    "    \n",
    "    plt.plot(log['YT_acc'], '--', c=c[1], label='Dur train acc')\n",
    "    plt.plot(log['val_YT_acc'], c=c[1], label='Dur val acc')\n",
    "    plt.legend(loc='best')\n",
    "\n",
    "def sample(preds, temperature=1.):\n",
    "    \"\"\"Helper function to sample an index from a probability array\"\"\"\n",
    "    preds = np.asarray(preds).astype('float64')\n",
    "    preds = np.log(preds) / temperature\n",
    "    exp_preds = np.exp(preds)\n",
    "    preds = exp_preds / np.sum(exp_preds)\n",
    "    probas = np.random.multinomial(1, preds, 1)\n",
    "    return np.argmax(probas)\n",
    "\n",
    "def writeMIDI(xP, xT, dictionaries, label):\n",
    "\n",
    "    # Instantiate a MIDI Pattern (contains a list of tracks)\n",
    "    pattern = midi.Pattern(format = 0, resolution=480)\n",
    "    # Instantiate a MIDI Track (contains a list of MIDI events)\n",
    "    track = midi.Track()\n",
    "    # Append the track to the pattern\n",
    "    pattern.append(track)\n",
    "    Events = []\n",
    "    \n",
    "    pseq = [dictionaries['P'][p] for p in xP]\n",
    "    tseq = [dictionaries['T'][t] for t in xT]\n",
    "    for t, p in zip(tseq, pseq):\n",
    "        e = midi.NoteOnEvent(tick=0, velocity=90, pitch=p)\n",
    "        track.append(e)\n",
    "        e = midi.NoteOffEvent(tick=t, velocity=0, pitch=p)\n",
    "        track.append(e)\n",
    "        \n",
    "    eot = midi.EndOfTrackEvent(tick=1)\n",
    "    track.append(eot)\n",
    "    # Save the pattern to disk\n",
    "    midi.write_midifile(label, pattern)"
   ]
  },
  {
   "cell_type": "markdown",
   "metadata": {},
   "source": [
    "## Exercise 1 : Data processing\n",
    "### Description\n",
    "\n",
    "For a real world application of ANNs, the original data should be translated into a representation understandable by an ANN. This step is often neglected but is of outmost importance. In order for you to better understand how ANN are applied to real world problems, the first step of this miniproject will guide you through a possible representation. \n",
    "\n",
    "Note that in general, your representation should be normalized in order to obtain homogeneous data from which a structure can be extracted by your ANN model. Importantly, all processing steps toward your representation should not (or minimally) distort your original data.\n",
    "\n",
    "To represent MIDI files, we provide you with a Python MIDI library. You should then\n",
    "\n",
    "0. Download the MIDI tar file from [this link](https://github.com/IraKorshunova/folk-rnn/tree/master/data) and put it in a folder named \"chorpus\" at the same level of this notebook.\n",
    "1. Parse the chorpus to extract the label of (a random subset of) the data (code is provided)\n",
    "2. Read each MIDI file in the subset with the midi [library](https://github.com/louisabraham/python3-midi)\n",
    "3. For each data sequence extract the sequence of MIDI notes defined by two dimensions (\"P\": the sequence of note pitches (integer between 0 and 127 representing a piano key), \"T\": the sequence of note durations.\n",
    "4. Select two melodies and display them both as sequences of MIDI events and sequence of notes in two dimensions. Control that your representation is correct.\n",
    "\n",
    "For step 3, you should learn how MIDI files are constructed. Below, we give a minimal explanation and some code for this particular project. For a more complete explanation, look for MIDI in your favorite search engine. Given this dataset, you can observe that it is monophonic (one note at a time) and there's a small delay (1 tick) inbetween each note. You could decide to ignore this delay or correct (recommanded) for it.\n",
    "\n",
    "A MIDI files is composed of timed events of many kinds. For this project, we focus on the events related to notes being played or stopped. Those are MIDI events \"Note Off\" and \"Note On\". Each event is timed with respect with the previous one (dt). The duration of a note is therefore given by the cummulated dt inbetween the event associated to a note's onset and the event associated with the same note's offset.\n",
    "        "
   ]
  },
  {
   "cell_type": "markdown",
   "metadata": {},
   "source": [
    "### Minimal code to read MIDI files"
   ]
  },
  {
   "cell_type": "code",
   "execution_count": 3,
   "metadata": {
    "scrolled": true
   },
   "outputs": [
    {
     "name": "stdout",
     "output_type": "stream",
     "text": [
      "chorpus/sessiontune0.mid\n",
      "########################################\n",
      "tick \t pitch \t message \t velocity\n",
      "########################################\n",
      "\n",
      "1 \t 67 \t Note On \t 105\n",
      "240 \t 67 \t Note Off \t 0\n",
      "241 \t 64 \t Note On \t 80\n",
      "480 \t 64 \t Note Off \t 0\n",
      "481 \t 64 \t Note On \t 80\n",
      "720 \t 64 \t Note Off \t 0\n",
      "721 \t 64 \t Note On \t 95\n",
      "1200 \t 64 \t Note Off \t 0\n",
      "1201 \t 62 \t Note On \t 80\n",
      ". \t . \t . \t \t .\n",
      ". \t . \t . \t \t .\n",
      ". \t . \t . \t \t .\n",
      "33601 \t 67 \t Note On \t 80\n",
      "33840 \t 67 \t Note Off \t 0\n",
      "33841 \t 69 \t Note On \t 95\n",
      "34080 \t 69 \t Note Off \t 0\n",
      "34081 \t 71 \t Note On \t 80\n",
      "34320 \t 71 \t Note Off \t 0\n",
      "34321 \t 72 \t Note On \t 80\n",
      "34560 \t 72 \t Note Off \t 0\n",
      "########################################\n",
      "\n",
      "4577/45854 melodies retained\n"
     ]
    }
   ],
   "source": [
    "def display(midi_file=\"chorpus/sessiontune0.mid\"):\n",
    "    #index 0 for first track only\n",
    "    events = midi.read_midifile(midi_file)[0] \n",
    "    tick = 0\n",
    "    print(midi_file)\n",
    "    print(\"#\"*40)\n",
    "    print(\"tick \\t pitch \\t message \\t velocity\")\n",
    "    print(\"#\"*40+'\\n')\n",
    "    for n, event in enumerate(events):\n",
    "        tick += event.tick\n",
    "        if event.name in ['Note On', 'Note Off']:\n",
    "            if n<13 or n>len(events)-10:\n",
    "                print(\"%i \\t %i \\t %s \\t %i\"%(tick, event.data[0], event.name, event.data[1]))\n",
    "            if n in range(20,23):\n",
    "                print(\". \\t . \\t . \\t \\t .\")\n",
    "    print(\"#\"*40+'\\n')\n",
    "\n",
    "display()\n",
    "\n",
    "datapath = \"chorpus/\"\n",
    "dataset = {}\n",
    "np.random.seed(seed)\n",
    "\n",
    "for filename in os.listdir(datapath):\n",
    "    if filename.endswith(\"mid\"):\n",
    "        label = filename[:-4]\n",
    "        #Down sample dataset\n",
    "        if np.random.rand() < 0.1:\n",
    "            dataset[label] = {\"T\":[], \"P\": []}\n",
    "print(\"%i/%i melodies retained\"%(len(list(dataset.keys())), len(os.listdir(datapath))))"
   ]
  },
  {
   "cell_type": "markdown",
   "metadata": {},
   "source": [
    "### Solution"
   ]
  },
  {
   "cell_type": "code",
   "execution_count": 30,
   "metadata": {},
   "outputs": [],
   "source": [
    "def parseMIDI(midi_file):\n",
    "    events = midi.read_midifile(midi_file)[0] #index 0 for first track only  \n",
    "    T = []; P = []\n",
    "    for n, event in enumerate(events):\n",
    "        #insert your code here...\n",
    "        if event.name in ['Note Off']:\n",
    "            tick = event.tick-1 # -1 to remove the 1 tick delay between each note\n",
    "            if tick > 0:\n",
    "                T.append(tick)\n",
    "                P.append(event.data[0])\n",
    "    return P, T"
   ]
  },
  {
   "cell_type": "code",
   "execution_count": 31,
   "metadata": {},
   "outputs": [],
   "source": [
    "for label in list(dataset.keys()):\n",
    "    Pseq, Tseq = parseMIDI(datapath+label+\".mid\")\n",
    "    dataset[label]['T']= Tseq\n",
    "    dataset[label]['P']= Pseq"
   ]
  },
  {
   "cell_type": "code",
   "execution_count": 6,
   "metadata": {},
   "outputs": [],
   "source": [
    "def display_seq(P_list, T_list):\n",
    "    tick = 0\n",
    "    print(\"#\"*15)\n",
    "    print(\"tick \\t pitch\")\n",
    "    print(\"#\"*15+'\\n')\n",
    "    for p, t in zip(P_list, T_list):   \n",
    "        tick += t\n",
    "        print(\"%i \\t %i\"%(tick, p,))  \n",
    "    print(\"#\"*15+'\\n')"
   ]
  },
  {
   "cell_type": "code",
   "execution_count": 7,
   "metadata": {},
   "outputs": [],
   "source": [
    "def simple_plot(P_list, T_list, title):\n",
    "    #plot melody in 2D\n",
    "    T_list.insert(0,0)\n",
    "    P_list.insert(0,P_list[0])\n",
    "    plt.figure(figsize=(15, 5))\n",
    "    plt.step(np.cumsum(T_list),P_list)\n",
    "    plt.title(title)\n",
    "    plt.xlabel(\"Ticks\")\n",
    "    plt.ylabel(\"Pitches\")    "
   ]
  },
  {
   "cell_type": "code",
   "execution_count": 32,
   "metadata": {},
   "outputs": [
    {
     "name": "stdout",
     "output_type": "stream",
     "text": [
      "Melody: sessiontune24631\n",
      "###############\n",
      "tick \t pitch\n",
      "###############\n",
      "\n",
      "238 \t 68\n",
      "476 \t 70\n",
      "714 \t 68\n",
      "952 \t 65\n",
      "1190 \t 66\n",
      "1428 \t 65\n",
      "1666 \t 63\n",
      "1904 \t 65\n",
      "2382 \t 61\n",
      "2540 \t 65\n",
      "2698 \t 63\n",
      "2856 \t 61\n",
      "3094 \t 56\n",
      "3332 \t 61\n",
      "3490 \t 65\n",
      "3648 \t 63\n",
      "3806 \t 61\n",
      "4044 \t 63\n",
      "4282 \t 61\n",
      "4520 \t 63\n",
      "4758 \t 65\n",
      "4996 \t 66\n",
      "5234 \t 65\n",
      "5472 \t 63\n",
      "5710 \t 61\n",
      "5948 \t 58\n",
      "6186 \t 63\n",
      "6424 \t 63\n",
      "6662 \t 61\n",
      "6900 \t 63\n",
      "7138 \t 65\n",
      "7376 \t 66\n",
      "7614 \t 70\n",
      "7852 \t 68\n",
      "8090 \t 70\n",
      "8328 \t 68\n",
      "8566 \t 65\n",
      "8804 \t 66\n",
      "9042 \t 65\n",
      "9280 \t 63\n",
      "9518 \t 65\n",
      "9996 \t 61\n",
      "10154 \t 65\n",
      "10312 \t 63\n",
      "10470 \t 61\n",
      "10708 \t 56\n",
      "10946 \t 61\n",
      "11104 \t 65\n",
      "11262 \t 63\n",
      "11420 \t 61\n",
      "11658 \t 63\n",
      "11896 \t 61\n",
      "12134 \t 63\n",
      "12372 \t 65\n",
      "12610 \t 66\n",
      "12848 \t 68\n",
      "13086 \t 70\n",
      "13324 \t 72\n",
      "13562 \t 73\n",
      "13800 \t 68\n",
      "14038 \t 66\n",
      "14276 \t 63\n",
      "14514 \t 65\n",
      "14752 \t 61\n",
      "14990 \t 61\n",
      "15228 \t 65\n",
      "15466 \t 68\n",
      "15704 \t 70\n",
      "15942 \t 68\n",
      "16180 \t 65\n",
      "16418 \t 66\n",
      "16656 \t 65\n",
      "16894 \t 63\n",
      "17132 \t 65\n",
      "17610 \t 61\n",
      "17768 \t 65\n",
      "17926 \t 63\n",
      "18084 \t 61\n",
      "18322 \t 56\n",
      "18560 \t 61\n",
      "18718 \t 65\n",
      "18876 \t 63\n",
      "19034 \t 61\n",
      "19272 \t 63\n",
      "19510 \t 61\n",
      "19748 \t 63\n",
      "19986 \t 65\n",
      "20224 \t 66\n",
      "20462 \t 65\n",
      "20700 \t 63\n",
      "20938 \t 61\n",
      "21176 \t 58\n",
      "21414 \t 63\n",
      "21652 \t 63\n",
      "21890 \t 61\n",
      "22128 \t 63\n",
      "22366 \t 65\n",
      "22604 \t 66\n",
      "22842 \t 70\n",
      "23080 \t 68\n",
      "23318 \t 70\n",
      "23556 \t 68\n",
      "23794 \t 65\n",
      "24032 \t 66\n",
      "24270 \t 65\n",
      "24508 \t 63\n",
      "24746 \t 65\n",
      "25224 \t 61\n",
      "25382 \t 65\n",
      "25540 \t 63\n",
      "25698 \t 61\n",
      "25936 \t 56\n",
      "26174 \t 61\n",
      "26332 \t 65\n",
      "26490 \t 63\n",
      "26648 \t 61\n",
      "26886 \t 63\n",
      "27124 \t 61\n",
      "27362 \t 63\n",
      "27600 \t 65\n",
      "27838 \t 66\n",
      "28076 \t 68\n",
      "28314 \t 70\n",
      "28552 \t 72\n",
      "28790 \t 73\n",
      "29028 \t 68\n",
      "29266 \t 66\n",
      "29504 \t 63\n",
      "29742 \t 65\n",
      "29980 \t 61\n",
      "30218 \t 61\n",
      "30456 \t 65\n",
      "30694 \t 68\n",
      "30932 \t 73\n",
      "31170 \t 73\n",
      "31408 \t 72\n",
      "31646 \t 70\n",
      "31884 \t 68\n",
      "32122 \t 65\n",
      "32360 \t 68\n",
      "32598 \t 70\n",
      "32836 \t 75\n",
      "33074 \t 75\n",
      "33312 \t 77\n",
      "33550 \t 75\n",
      "33788 \t 73\n",
      "34026 \t 70\n",
      "34264 \t 73\n",
      "34502 \t 72\n",
      "34740 \t 68\n",
      "34978 \t 75\n",
      "35216 \t 68\n",
      "35454 \t 77\n",
      "35692 \t 68\n",
      "35930 \t 75\n",
      "36168 \t 68\n",
      "36886 \t 73\n",
      "37124 \t 70\n",
      "37362 \t 68\n",
      "37600 \t 66\n",
      "37838 \t 65\n",
      "38076 \t 66\n",
      "38314 \t 68\n",
      "38552 \t 73\n",
      "38790 \t 73\n",
      "39028 \t 72\n",
      "39266 \t 73\n",
      "39504 \t 68\n",
      "39742 \t 65\n",
      "39980 \t 68\n",
      "40218 \t 70\n",
      "40456 \t 75\n",
      "40694 \t 75\n",
      "40932 \t 77\n",
      "41170 \t 75\n",
      "41408 \t 73\n",
      "41646 \t 70\n",
      "41884 \t 72\n",
      "42602 \t 73\n",
      "42840 \t 70\n",
      "43078 \t 68\n",
      "43316 \t 66\n",
      "43554 \t 65\n",
      "43792 \t 66\n",
      "44030 \t 68\n",
      "44268 \t 65\n",
      "44506 \t 66\n",
      "44744 \t 63\n",
      "44982 \t 65\n",
      "45220 \t 61\n",
      "45458 \t 61\n",
      "45696 \t 65\n",
      "45934 \t 68\n",
      "46172 \t 73\n",
      "46410 \t 73\n",
      "46648 \t 72\n",
      "46886 \t 70\n",
      "47124 \t 68\n",
      "47362 \t 65\n",
      "47600 \t 68\n",
      "47838 \t 70\n",
      "48076 \t 75\n",
      "48314 \t 75\n",
      "48552 \t 77\n",
      "48790 \t 75\n",
      "49028 \t 73\n",
      "49266 \t 70\n",
      "49504 \t 73\n",
      "49742 \t 72\n",
      "49980 \t 68\n",
      "50218 \t 75\n",
      "50456 \t 68\n",
      "50694 \t 77\n",
      "50932 \t 68\n",
      "51170 \t 75\n",
      "51408 \t 68\n",
      "52126 \t 73\n",
      "52364 \t 70\n",
      "52602 \t 68\n",
      "52840 \t 66\n",
      "53078 \t 65\n",
      "53316 \t 66\n",
      "53554 \t 68\n",
      "53792 \t 73\n",
      "54030 \t 73\n",
      "54268 \t 72\n",
      "54506 \t 73\n",
      "54744 \t 68\n",
      "54982 \t 65\n",
      "55220 \t 68\n",
      "55458 \t 70\n",
      "55696 \t 75\n",
      "55934 \t 75\n",
      "56172 \t 77\n",
      "56410 \t 75\n",
      "56648 \t 73\n",
      "56886 \t 70\n",
      "57124 \t 72\n",
      "57842 \t 73\n",
      "58080 \t 70\n",
      "58318 \t 68\n",
      "58556 \t 66\n",
      "58794 \t 65\n",
      "59032 \t 66\n",
      "59270 \t 68\n",
      "59508 \t 65\n",
      "59746 \t 66\n",
      "59984 \t 63\n",
      "60222 \t 65\n",
      "60460 \t 61\n",
      "60698 \t 61\n",
      "60936 \t 65\n",
      "###############\n",
      "\n",
      "Melody: sessiontune2465\n",
      "###############\n",
      "tick \t pitch\n",
      "###############\n",
      "\n",
      "238 \t 76\n",
      "476 \t 72\n",
      "714 \t 72\n",
      "952 \t 79\n",
      "1190 \t 72\n",
      "1428 \t 72\n",
      "1666 \t 81\n",
      "1904 \t 81\n",
      "2142 \t 81\n",
      "2380 \t 79\n",
      "2618 \t 76\n",
      "2856 \t 74\n",
      "3094 \t 76\n",
      "3332 \t 72\n",
      "3570 \t 72\n",
      "3808 \t 79\n",
      "4046 \t 74\n",
      "4284 \t 72\n",
      "4522 \t 74\n",
      "4760 \t 74\n",
      "4998 \t 74\n",
      "5236 \t 74\n",
      "5474 \t 76\n",
      "5712 \t 79\n",
      "5950 \t 76\n",
      "6188 \t 72\n",
      "6426 \t 72\n",
      "6664 \t 79\n",
      "6902 \t 72\n",
      "7140 \t 72\n",
      "7378 \t 81\n",
      "7616 \t 81\n",
      "7854 \t 81\n",
      "8092 \t 79\n",
      "8330 \t 76\n",
      "8568 \t 79\n",
      "9046 \t 84\n",
      "9284 \t 79\n",
      "9522 \t 79\n",
      "9760 \t 76\n",
      "9998 \t 72\n",
      "10236 \t 74\n",
      "10474 \t 74\n",
      "10712 \t 74\n",
      "10950 \t 74\n",
      "11188 \t 76\n",
      "11426 \t 79\n",
      "11664 \t 76\n",
      "11902 \t 72\n",
      "12140 \t 72\n",
      "12378 \t 79\n",
      "12616 \t 72\n",
      "12854 \t 72\n",
      "13092 \t 81\n",
      "13330 \t 81\n",
      "13568 \t 81\n",
      "13806 \t 79\n",
      "14044 \t 76\n",
      "14282 \t 74\n",
      "14520 \t 76\n",
      "14758 \t 72\n",
      "14996 \t 72\n",
      "15234 \t 79\n",
      "15472 \t 74\n",
      "15710 \t 72\n",
      "15948 \t 74\n",
      "16186 \t 74\n",
      "16424 \t 74\n",
      "16662 \t 74\n",
      "16900 \t 76\n",
      "17138 \t 79\n",
      "17376 \t 76\n",
      "17614 \t 72\n",
      "17852 \t 72\n",
      "18090 \t 79\n",
      "18328 \t 72\n",
      "18566 \t 72\n",
      "18804 \t 81\n",
      "19042 \t 81\n",
      "19280 \t 81\n",
      "19518 \t 79\n",
      "19756 \t 76\n",
      "19994 \t 79\n",
      "20472 \t 84\n",
      "20710 \t 79\n",
      "20948 \t 79\n",
      "21186 \t 76\n",
      "21424 \t 72\n",
      "21662 \t 74\n",
      "21900 \t 74\n",
      "22138 \t 74\n",
      "22376 \t 74\n",
      "22614 \t 76\n",
      "22852 \t 79\n",
      "23330 \t 74\n",
      "23568 \t 74\n",
      "23806 \t 74\n",
      "24044 \t 76\n",
      "24282 \t 77\n",
      "24520 \t 76\n",
      "24758 \t 76\n",
      "24996 \t 76\n",
      "25234 \t 76\n",
      "25472 \t 74\n",
      "25710 \t 72\n",
      "26188 \t 74\n",
      "26426 \t 74\n",
      "26664 \t 74\n",
      "26902 \t 76\n",
      "27140 \t 79\n",
      "27378 \t 81\n",
      "27616 \t 81\n",
      "27854 \t 81\n",
      "28092 \t 81\n",
      "28330 \t 79\n",
      "28568 \t 76\n",
      "29046 \t 74\n",
      "29284 \t 74\n",
      "29522 \t 74\n",
      "29760 \t 76\n",
      "29998 \t 77\n",
      "30236 \t 76\n",
      "30474 \t 76\n",
      "30712 \t 76\n",
      "30950 \t 76\n",
      "31188 \t 77\n",
      "31426 \t 79\n",
      "31664 \t 81\n",
      "31902 \t 81\n",
      "32140 \t 81\n",
      "32378 \t 81\n",
      "32616 \t 79\n",
      "32854 \t 81\n",
      "33092 \t 74\n",
      "33330 \t 74\n",
      "33568 \t 74\n",
      "33806 \t 74\n",
      "34044 \t 76\n",
      "34282 \t 74\n",
      "34760 \t 74\n",
      "34998 \t 74\n",
      "35236 \t 74\n",
      "35474 \t 76\n",
      "35712 \t 77\n",
      "35950 \t 76\n",
      "36188 \t 76\n",
      "36426 \t 76\n",
      "36664 \t 76\n",
      "36902 \t 74\n",
      "37140 \t 72\n",
      "37618 \t 74\n",
      "37856 \t 74\n",
      "38094 \t 74\n",
      "38332 \t 76\n",
      "38570 \t 79\n",
      "38808 \t 81\n",
      "39046 \t 81\n",
      "39284 \t 81\n",
      "39522 \t 81\n",
      "39760 \t 79\n",
      "39998 \t 76\n",
      "40476 \t 84\n",
      "40714 \t 81\n",
      "40952 \t 79\n",
      "41190 \t 76\n",
      "41428 \t 72\n",
      "41666 \t 74\n",
      "41904 \t 74\n",
      "42142 \t 74\n",
      "42380 \t 74\n",
      "42618 \t 76\n",
      "42856 \t 77\n",
      "43094 \t 76\n",
      "43332 \t 76\n",
      "43570 \t 76\n",
      "43808 \t 76\n",
      "44046 \t 77\n",
      "44284 \t 79\n",
      "44522 \t 74\n",
      "44760 \t 74\n",
      "44998 \t 74\n",
      "45236 \t 74\n",
      "45474 \t 76\n",
      "45712 \t 77\n",
      "###############\n",
      "\n"
     ]
    },
    {
     "data": {
      "image/png": "[encoded data removed]",
      "text/plain": [
       "<Figure size 1080x360 with 1 Axes>"
      ]
     },
     "metadata": {
      "image/png": {
       "height": 335,
       "width": 888
      }
     },
     "output_type": "display_data"
    },
    {
     "data": {
      "image/png": "[encoded data removed]",
      "text/plain": [
       "<Figure size 1080x360 with 1 Axes>"
      ]
     },
     "metadata": {
      "image/png": {
       "height": 335,
       "width": 888
      }
     },
     "output_type": "display_data"
    }
   ],
   "source": [
    "for label in np.random.choice(list(dataset.keys()), 2):\n",
    "    \n",
    "    #print MIDI sequence\n",
    "    print(\"Melody: %s\"%(label))\n",
    "    display_seq(dataset[label]['P'], dataset[label]['T'])\n",
    "    \n",
    "    #plot melody in 2D\n",
    "    simple_plot(dataset[label]['P'],dataset[label]['T'], label)"
   ]
  },
  {
   "cell_type": "markdown",
   "metadata": {},
   "source": [
    "## Exercise 2: Tokenzation and translation to integer\n",
    "### Description\n",
    "\n",
    "Now you should have a \"dataset\" dictionary where each entry corresponds to one melody example from a subset of the full dataset. In turn, every melody example is represented by a dictionary with two sequences: the \"P\" entry being the sequence of pitches and the \"T\" entry, the sequence of durations. Here, you will implement the first steps to translate this dataset in a language that can be read by your ANN models. To achieve that, we will later use the [one-hot encoding scheme](https://machinelearningmastery.com/why-one-hot-encode-data-in-machine-learning/), which will associate each input (and output) unit of your network to a unique pitch or duration. In your network, these units will then be sequentially activated in the same order as their corresponding pitch/duration in your dataset. And at each note, the model will be trained to approximate the probability distributions of the upcoming pitch and duration.\n",
    "\n",
    "1. Gather in a list of all possible pitches and durations in your dataset. These two lists will be your \"dictionaries\" translating a pitch/duration to a unique integer between 0 and the number of entries (-1) in the pitch/duration dictionary.\n",
    "2. Translate the pitch/duration sequence of each melody to the integer representation.\n",
    "3. Select randomly two melodies and display them in the note representation and translated to integer. Check that the translation is correct."
   ]
  },
  {
   "cell_type": "markdown",
   "metadata": {},
   "source": [
    "### Solution"
   ]
  },
  {
   "cell_type": "markdown",
   "metadata": {},
   "source": [
    "#### Defining some useful functions"
   ]
  },
  {
   "cell_type": "code",
   "execution_count": 37,
   "metadata": {},
   "outputs": [],
   "source": [
    "def construct_possible_values(dataset):\n",
    "    \"\"\"\n",
    "    Creates lists of all possible values of pitch and ticks in the dataset\n",
    "    \"\"\"\n",
    "    possible_values = {'T':[],'P':[]}\n",
    "    for label in list(dataset.keys()):\n",
    "        \n",
    "        for t in dataset[label]['T']:\n",
    "            if t not in possible_values['T']:\n",
    "                possible_values['T'].append(t)\n",
    "                \n",
    "        for p in dataset[label]['P']:\n",
    "            if p not in possible_values['P']:\n",
    "                possible_values['P'].append(p)\n",
    "        \n",
    "    possible_values['T'].sort()\n",
    "    possible_values['P'].sort()\n",
    "    return possible_values\n",
    "\n",
    "def one_hot_encoding(possible_values):\n",
    "    \"\"\"\n",
    "    Construct the coded list s.t. element\n",
    "    e = coded_list[i] coding is at coded_list[i+1]\n",
    "    \"\"\"\n",
    "    coded_list = []\n",
    "    for index in range(len(possible_values)):\n",
    "        element = possible_values[index]\n",
    "        coded_list.append(element)\n",
    "        coded_list.append(index)\n",
    "    return coded_list\n",
    "\n",
    "def find_element_in_list(element, list):\n",
    "    try:\n",
    "        index_element = list.index(element)\n",
    "        return index_element\n",
    "    except ValueError:\n",
    "        return None\n",
    "    \n",
    "def translate_to_integer_sequ(dataset, coded_list):\n",
    "    \"\"\"\n",
    "    Catch the index i in the coding_list and add its\n",
    "    coded element coding_list[i+1] to the integer_sequence\n",
    "    for each element of the sequence given\n",
    "    \"\"\"\n",
    "    t_coded = []\n",
    "    p_coded = []\n",
    "    for label in list(dataset.keys()):\n",
    "        T = dataset[label]['T']\n",
    "        P = dataset[label]['P']\n",
    "        for t,p in zip(T,P):\n",
    "            t_index = find_element_in_list(t,coded_list)\n",
    "            p_index = find_element_in_list(p,coded_list)\n",
    "            t_coded.append(coded_list[t_index+1])\n",
    "            p_coded.append(coded_list[p_index+1])\n",
    "    coded_dataset = dataset\n",
    "    coded_dataset[label]['T'] = t_coded\n",
    "    coded_dataset[label]['P'] = p_coded\n",
    "    return coded_dataset"
   ]
  },
  {
   "cell_type": "markdown",
   "metadata": {},
   "source": [
    "#### Create the possible_values list and save it in a json file"
   ]
  },
  {
   "cell_type": "code",
   "execution_count": 38,
   "metadata": {
    "scrolled": true
   },
   "outputs": [
    {
     "name": "stdout",
     "output_type": "stream",
     "text": [
      "{'T': [0, 9, 15, 19, 28, 34, 38, 48, 58, 78, 88, 94, 104, 108, 118, 138, 142, 148, 158, 159, 178, 198, 201, 208, 211, 218, 228, 238, 239, 298, 308, 318, 335, 348, 358, 398, 458, 468, 478, 479, 538, 558, 598, 638, 698, 708, 718, 798, 838, 928, 938, 948, 949, 958, 959, 1118, 1198, 1199, 1278, 1428, 1438, 1678, 1838, 1908, 1918, 2078, 2158, 2398, 2638, 2878, 3118, 3358, 3598, 3838], 'P': [48, 49, 50, 51, 52, 53, 54, 55, 56, 57, 58, 59, 60, 61, 62, 63, 64, 65, 66, 67, 68, 69, 70, 71, 72, 73, 74, 75, 76, 77, 78, 79, 80, 81, 82, 83, 84, 85, 86, 87, 88, 89, 90, 91, 93, 94]}\n"
     ]
    }
   ],
   "source": [
    "possible_values = construct_possible_values(dataset)    \n",
    "print(possible_values)"
   ]
  },
  {
   "cell_type": "markdown",
   "metadata": {},
   "source": [
    "#### Create the coded_list and save_it in a json file"
   ]
  },
  {
   "cell_type": "code",
   "execution_count": 35,
   "metadata": {
    "scrolled": true
   },
   "outputs": [
    {
     "name": "stdout",
     "output_type": "stream",
     "text": [
      "{'T': {0: 0, 1: 9, 2: 15, 3: 19, 4: 28, 5: 34, 6: 38, 7: 48, 8: 58, 9: 78, 10: 88, 11: 94, 12: 104, 13: 108, 14: 118, 15: 138, 16: 142, 17: 148, 18: 158, 19: 159, 20: 178, 21: 198, 22: 201, 23: 208, 24: 211, 25: 218, 26: 228, 27: 238, 28: 239, 29: 298, 30: 308, 31: 318, 32: 335, 33: 348, 34: 358, 35: 398, 36: 458, 37: 468, 38: 478, 39: 479, 40: 538, 41: 558, 42: 598, 43: 638, 44: 698, 45: 708, 46: 718, 47: 798, 48: 838, 49: 928, 50: 938, 51: 948, 52: 949, 53: 958, 54: 959, 55: 1118, 56: 1198, 57: 1199, 58: 1278, 59: 1428, 60: 1438, 61: 1678, 62: 1838, 63: 1908, 64: 1918, 65: 2078, 66: 2158, 67: 2398, 68: 2638, 69: 2878, 70: 3118, 71: 3358, 72: 3598, 73: 3838}, 'P': {0: 48, 1: 49, 2: 50, 3: 51, 4: 52, 5: 53, 6: 54, 7: 55, 8: 56, 9: 57, 10: 58, 11: 59, 12: 60, 13: 61, 14: 62, 15: 63, 16: 64, 17: 65, 18: 66, 19: 67, 20: 68, 21: 69, 22: 70, 23: 71, 24: 72, 25: 73, 26: 74, 27: 75, 28: 76, 29: 77, 30: 78, 31: 79, 32: 80, 33: 81, 34: 82, 35: 83, 36: 84, 37: 85, 38: 86, 39: 87, 40: 88, 41: 89, 42: 90, 43: 91, 44: 93, 45: 94}}\n"
     ]
    }
   ],
   "source": [
    "integer_dict = {}\n",
    "integer_dict['T'] = {key: value for (key,value) in zip(range(0,len(possible_values['T'])),possible_values['T'])}\n",
    "integer_dict['P'] = {key: value for (key,value) in zip(range(0,len(possible_values['P'])),possible_values['P'])}\n",
    "    \n",
    "print(integer_dict)"
   ]
  },
  {
   "cell_type": "code",
   "execution_count": 12,
   "metadata": {},
   "outputs": [],
   "source": [
    "# save dictionary\n",
    "with open('SavedData/ex2_dictionary.txt', 'w') as outfile:\n",
    "    json.dump(integer_dict, outfile)"
   ]
  },
  {
   "cell_type": "markdown",
   "metadata": {},
   "source": [
    "#### Translate the datafile pitch and duration sequences into integer sequence"
   ]
  },
  {
   "cell_type": "code",
   "execution_count": 13,
   "metadata": {},
   "outputs": [],
   "source": [
    "with open('SavedData/ex2_dictionary.txt') as json_data:\n",
    "    integer_dict = json.load(json_data)\n",
    "# convert JSON str keys into int keys\n",
    "integer_dict['T'] = {int(key):int(value) for key,value in integer_dict['T'].items()}\n",
    "integer_dict['P'] = {int(key):int(value) for key,value in integer_dict['P'].items()}"
   ]
  },
  {
   "cell_type": "code",
   "execution_count": 14,
   "metadata": {},
   "outputs": [
    {
     "name": "stdout",
     "output_type": "stream",
     "text": [
      "{'T': {0: -1, 1: 0, 2: 9, 3: 15, 4: 19, 5: 28, 6: 34, 7: 38, 8: 48, 9: 58, 10: 78, 11: 88, 12: 94, 13: 104, 14: 108, 15: 118, 16: 138, 17: 142, 18: 148, 19: 158, 20: 159, 21: 178, 22: 198, 23: 201, 24: 208, 25: 211, 26: 218, 27: 228, 28: 238, 29: 239, 30: 298, 31: 308, 32: 318, 33: 335, 34: 348, 35: 358, 36: 398, 37: 458, 38: 468, 39: 478, 40: 479, 41: 538, 42: 558, 43: 598, 44: 638, 45: 698, 46: 708, 47: 718, 48: 798, 49: 838, 50: 928, 51: 938, 52: 948, 53: 949, 54: 958, 55: 959, 56: 1118, 57: 1198, 58: 1199, 59: 1278, 60: 1428, 61: 1438, 62: 1678, 63: 1838, 64: 1908, 65: 1918, 66: 2078, 67: 2158, 68: 2398, 69: 2638, 70: 2878, 71: 3118, 72: 3358, 73: 3598, 74: 3838}, 'P': {0: 48, 1: 49, 2: 50, 3: 51, 4: 52, 5: 53, 6: 54, 7: 55, 8: 56, 9: 57, 10: 58, 11: 59, 12: 60, 13: 61, 14: 62, 15: 63, 16: 64, 17: 65, 18: 66, 19: 67, 20: 68, 21: 69, 22: 70, 23: 71, 24: 72, 25: 73, 26: 74, 27: 75, 28: 76, 29: 77, 30: 78, 31: 79, 32: 80, 33: 81, 34: 82, 35: 83, 36: 84, 37: 85, 38: 86, 39: 87, 40: 88, 41: 89, 42: 90, 43: 91, 44: 93, 45: 94}}\n"
     ]
    }
   ],
   "source": [
    "print(integer_dict)"
   ]
  },
  {
   "cell_type": "code",
   "execution_count": 15,
   "metadata": {},
   "outputs": [],
   "source": [
    "# create reverse dict to translate in the other direction\n",
    "reverse_dict = {}\n",
    "reverse_dict['T'] = {key: value for (value,key) in integer_dict['T'].items()}\n",
    "reverse_dict['P'] = {key: value for (value,key) in integer_dict['P'].items()}\n",
    "\n",
    "coded_dataset = {}\n",
    "for label in list(dataset.keys()):\n",
    "    coded_dataset[label] = {'T':[],'P':[]}\n",
    "    coded_dataset[label]['T'] = [reverse_dict['T'][raw_t] for raw_t in dataset[label]['T']]\n",
    "    coded_dataset[label]['P'] = [reverse_dict['P'][raw_p] for raw_p in dataset[label]['P']]"
   ]
  },
  {
   "cell_type": "code",
   "execution_count": 16,
   "metadata": {},
   "outputs": [],
   "source": [
    "#save coded dataset\n",
    "with open('SavedData/ex2_coded_dataset.txt', 'w') as outfile:\n",
    "    json.dump(coded_dataset, outfile)"
   ]
  },
  {
   "cell_type": "markdown",
   "metadata": {},
   "source": [
    "#### Show result"
   ]
  },
  {
   "cell_type": "code",
   "execution_count": 17,
   "metadata": {},
   "outputs": [],
   "source": [
    "with open('SavedData/ex2_coded_dataset.txt') as json_data:\n",
    "    coded_dataset = json.load(json_data)"
   ]
  },
  {
   "cell_type": "code",
   "execution_count": 18,
   "metadata": {},
   "outputs": [
    {
     "data": {
      "image/png": "[encoded data removed]",
      "text/plain": [
       "<Figure size 1080x360 with 1 Axes>"
      ]
     },
     "metadata": {
      "image/png": {
       "height": 335,
       "width": 888
      }
     },
     "output_type": "display_data"
    },
    {
     "data": {
      "image/png": "[encoded data removed]",
      "text/plain": [
       "<Figure size 1080x360 with 1 Axes>"
      ]
     },
     "metadata": {
      "image/png": {
       "height": 335,
       "width": 888
      }
     },
     "output_type": "display_data"
    },
    {
     "data": {
      "image/png": "[encoded data removed]",
      "text/plain": [
       "<Figure size 1080x360 with 1 Axes>"
      ]
     },
     "metadata": {
      "image/png": {
       "height": 335,
       "width": 898
      }
     },
     "output_type": "display_data"
    },
    {
     "data": {
      "image/png": "[encoded data removed]",
      "text/plain": [
       "<Figure size 1080x360 with 1 Axes>"
      ]
     },
     "metadata": {
      "image/png": {
       "height": 335,
       "width": 898
      }
     },
     "output_type": "display_data"
    }
   ],
   "source": [
    "for label in np.random.choice(list(dataset.keys()), 2):\n",
    "    simple_plot(dataset[label]['P'], dataset[label]['T'], \"Original Melody: %s\"%(label))\n",
    "    simple_plot(coded_dataset[label]['P'], coded_dataset[label]['T'], \"Translated Melody: %s\"%(label))"
   ]
  },
  {
   "cell_type": "markdown",
   "metadata": {},
   "source": [
    "## Exercise 3: Data reprocessing\n",
    "### Description\n",
    "\n",
    "Before moving to the implementation of your RNN generative model of note transition, you will perform data exploration and modification. This step will allow your model to get the most out of your original data as well as ensuring some features such as transposition invariance. \n",
    "\n",
    "To further improve your model, you might want to reconsider your original data. Many different approaches can be undertaken. Here you are asked to implement the a rare event suppression method and transposition invariance.\n",
    "\n",
    "**Rare event suppression** If a unit in your network is associated to a duration that happens very rarely in your data, a possible simplification consists in removing the melodies conaining these rare events from your dataset. \n",
    "1. Plot and comment the histogram of durations in your entire dataset. Use the labels from the original duration values (rather than the integer representation). \n",
    "2. Based on your observations, remove from your dataset melodies containing very rare durations. Adjust the rejection threshold such that at most 5% of the melodies are dicarded with this step. \n",
    "3. Recompute the duration dictionary based on your filtered dataset and plot the new histogram of durations. \n",
    "\n",
    "**Transposition invariance** A melody is perceived similarly by the human ear if it's shifted up or down by a constant offset (see [transposition](https://en.wikipedia.org/wiki/Transposition_(music))). Here, you will force your model to be transposition invariant. For this you can choose to use one of two orthogonal methods. The first consists in transposing every melody into a common tonality (C Major/A minor). On the other hand, the second consists in transposing each melody in all possible keys. The second method will increase your dataset size by a factor bigger than 11! As the training time is directly related with the dataset size, to save computing time, we recomand that you implement the first option.\n",
    "\n",
    "***Pitch normalization*** \n",
    "1. Use the provided function to create a new dataset where all melodies are transposed to C Major/A minor. \n",
    "2. Plot the histograms of the pitches before and after transposition.\n",
    "\n",
    "Finally, you shoud recompute the tokenization step for your brand new filtered and normalized dataset."
   ]
  },
  {
   "cell_type": "markdown",
   "metadata": {},
   "source": [
    "### Solution"
   ]
  },
  {
   "cell_type": "code",
   "execution_count": null,
   "metadata": {
    "scrolled": true
   },
   "outputs": [],
   "source": [
    "def transposeDataset(dataset):\n",
    "    transposed_dataset = {}\n",
    "\n",
    "    for label in list(dataset.keys()):\n",
    "        transposed_dataset[label] = {}\n",
    "        score = music21.converter.parse(datapath+label+\".mid\")\n",
    "        key = score.analyze('key')\n",
    "        if key.mode == \"major\":\n",
    "            i = music21.interval.Interval(key.tonic, music21.pitch.Pitch('C'))\n",
    "        elif key.mode == \"minor\":\n",
    "            i = music21.interval.Interval(key.tonic, music21.pitch.Pitch('A'))\n",
    "        i = i.semitones\n",
    "        transposed_dataset[label]['P'] = [p+i for p in dataset[label]['P']]\n",
    "        transposed_dataset[label]['T'] = dataset[label]['T']\n",
    "        \n",
    "    return transposed_dataset"
   ]
  },
  {
   "cell_type": "markdown",
   "metadata": {},
   "source": [
    "#### Rare event suppression"
   ]
  },
  {
   "cell_type": "code",
   "execution_count": 99,
   "metadata": {},
   "outputs": [
    {
     "data": {
      "image/png": "[encoded data removed]",
      "text/plain": [
       "<Figure size 1080x360 with 1 Axes>"
      ]
     },
     "metadata": {
      "image/png": {
       "height": 319,
       "width": 903
      }
     },
     "output_type": "display_data"
    }
   ],
   "source": [
    "# make a list with all ticks of the dataset\n",
    "tick_list = []\n",
    "for label in list(dataset.keys()):\n",
    "    tick_list.extend(dataset[label]['T'])\n",
    "\n",
    "# plot histogram\n",
    "plt.figure(figsize=(15, 5))\n",
    "plt.hist([x for x in tick_list]);\n",
    "plt.title(\"Tick Occurences\");"
   ]
  },
  {
   "cell_type": "markdown",
   "metadata": {},
   "source": [
    "We see on the histogram that most of the durations are between 0 and 750 ticks and that most tick duration occur more than 100'000 times."
   ]
  },
  {
   "cell_type": "code",
   "execution_count": 84,
   "metadata": {},
   "outputs": [
    {
     "name": "stdout",
     "output_type": "stream",
     "text": [
      "Discarded Melodies: 4.937732%\n"
     ]
    }
   ],
   "source": [
    "threshold = 200\n",
    "\n",
    "# create a copy of dataset, to keep the original one untouched\n",
    "new_dataset = dict(dataset)\n",
    "\n",
    "# make list with all ticks occruring less times than *threshold*:\n",
    "# first, we need to count tick occurences\n",
    "tick_count = {}\n",
    "for t in tick_list:\n",
    "    if t in tick_count.keys():\n",
    "        tick_count[t] = tick_count[t]+1\n",
    "    else:\n",
    "        tick_count[t] = 1;\n",
    "# make the list\n",
    "rare_event = [t for t in tick_count.keys() if tick_count[t] < threshold]\n",
    "\n",
    "# remove each melody that have one of the duration in *rare_event*\n",
    "for label in list(new_dataset.keys()):\n",
    "    for t in new_dataset[label]['T']:\n",
    "        if t in rare_event:\n",
    "            del new_dataset[label]\n",
    "            break\n",
    "            \n",
    "# compare dataset length with original one\n",
    "print(\"Discarded Melodies: %f%%\"%((len(dataset)-len(new_dataset))/len(dataset)*100))"
   ]
  },
  {
   "cell_type": "code",
   "execution_count": 100,
   "metadata": {},
   "outputs": [
    {
     "data": {
      "image/png": "[encoded data removed]",
      "text/plain": [
       "<Figure size 1080x360 with 1 Axes>"
      ]
     },
     "metadata": {
      "image/png": {
       "height": 319,
       "width": 898
      }
     },
     "output_type": "display_data"
    }
   ],
   "source": [
    "new_tick_list = []\n",
    "for label in list(new_dataset.keys()):\n",
    "    new_tick_list.extend(dataset[label]['T'])\n",
    "\n",
    "plt.figure(figsize=(15, 5))\n",
    "plt.hist([x for x in new_tick_list]);\n",
    "plt.title(\"Tick Occurences\");"
   ]
  },
  {
   "cell_type": "markdown",
   "metadata": {},
   "source": [
    "#### Transposition invariance"
   ]
  },
  {
   "cell_type": "code",
   "execution_count": null,
   "metadata": {},
   "outputs": [],
   "source": []
  },
  {
   "cell_type": "markdown",
   "metadata": {},
   "source": [
    "#### Pitch normalization"
   ]
  },
  {
   "cell_type": "code",
   "execution_count": null,
   "metadata": {},
   "outputs": [],
   "source": []
  },
  {
   "cell_type": "markdown",
   "metadata": {},
   "source": [
    "**Question**: How much did you reduce the space of possible durations with your rare event suppression procedure? What is the impact in term of training time?\n",
    "    \n",
    "**Answer**: \n",
    "\n",
    "**Question**: Explain why and how both transposition to a single tonality and to all possible tonalities can yield transposition invariance in your model. \n",
    "\n",
    "**Answer**:\n",
    "\n",
    "**Question**: In terms of number of dimensions, what would have been the impact of keeping the joint represenation of a note duration and pitch (vs separating the two features)? \n",
    "\n",
    "**Answer**: \n",
    "\n",
    "**Question**: How would the distribution of notes in the joint representation differ from the distributions in the pitch and duration only representations (as shown by your histograms above)?\n",
    "\n",
    "**Answer**: "
   ]
  },
  {
   "cell_type": "markdown",
   "metadata": {},
   "source": [
    "## Exercise 4: One-hot and zero-padding\n",
    "### Description\n",
    "\n",
    "The last few steps to be able to feed (note by note) your music scores to a RNN model are\n",
    "1. Transform the sequence of integers into a sequence of vectors in the one-hot encoding scheme.\n",
    "2. Homegenize the length of each sequence\n",
    "\n",
    "**One-hot encode** You can implement your own integer to one-hot code. For this use the numpy library and the suitable datatype. Alternatively, Keras provides a [built in one-hot encoding scheme](https://keras.io/utils/#to_categorical). After this step, for each melody, you should have two similar length matrices with one representing the sequence of note pitches and the other the sequence of note durations.\n",
    "1. Code the integer representation into matrices of one-hot vectors\n",
    "\n",
    "**Zero-padding** Most deep learning libraries, including Keras, require that you specify the shape of the input data. As such, you cannot have variable length inputs per-se. The trick to handle them is [zero-padding](https://keras.io/preprocessing/sequence/#pad_sequences). Provided with the [Masking Layer](https://keras.io/layers/core/#masking) Keras will then ignore time steps where all inputs are 0.\n",
    "1. Extend the end of each melody matrices with vectors containing only zeros until all melodies have the same size. For simplicity, use the Keras pad_sequences function. There might be some rare very long melodies in your dataset, a possible choice is to set the 'maxlen' argument of pad_sequences to the mean+2std of the melody lengths. This ensure that 95% of your melodies would end before being truncated.\n",
    "2. Check and display the dimension of the resulting tensors. Typically, the tensor representing the sequence of pitches should be of shape [number of melodies x number of notes x number of entries in the pitch dictionary] and the tensor representing the sequence of durations [number of melodies x number of notes x number of entries in the duration dictionary]\n",
    "\n",
    "To check if this step was done correctly use the provided plotMelody function. For two randomly selected melodies, call the plotMelody function before and after one-hot/zero-pad. You should obtain the same plots (or slightly truncated if you randomly selected one belonging to 5% longest).\n",
    "\n",
    "Finally, we strongly suggest that you save your preprocessed data now."
   ]
  },
  {
   "cell_type": "markdown",
   "metadata": {},
   "source": [
    "### Solution"
   ]
  },
  {
   "cell_type": "markdown",
   "metadata": {},
   "source": [
    "## Exercise 5: Building and training a generative model of  note transition with the Keras functional API\n",
    "### Description\n",
    "\n",
    "The Keras Sequential model is very efficient for fast prototyping, however suffers from a lack of design liberty. The Keras Functional API is only slightly more complex but allows for more control on the different parts of your model. You will be using the Functional API for the rest of this project. Please read carefully the [documentation](https://keras.io/getting-started/sequential-model-guide/). \n",
    "\n",
    "Here, you will be constructing your RNN model of note transition. To achieve that, your model should be trained to approximate the probability distribution of the upcoming note (observed as two output softmax layers - one for pitch and one for duration) given the current note (given as input) and the model internal representation of the history of notes (its hidden state). To achieve that, set the Keras RNN layer argument \"return_sequences\" to True when building your model. Doing this will give you an output for each note, rather than a single output at the end of the sequence. During training, the target at each time step is the next note pitch and duration.\n",
    "\n",
    "You are free to use your own architecture but make sure to use at least 128 hidden units, Masking, and dropout to prevent overfitting. Your model should have two output (softmax) layers, one related to the pitch predictions that you should name `YP`, and the other related to the duration predictions `YT`. You should monitor both the loss (categorical_crossentropy) and the accuracy. For your best model, you should reach 40%/75% accuracy on the pitch/duration predictions.\n",
    "\n",
    "1. Train your first model composed of SimpleRNN cells for min 250 epochs and save the model/parameters that lead to the higher accuracy on the validating set. Use a validation split of 0.2. Try  If you correctly named the output layers (`YP` and `YT`) use the provided `plotLearningCurves(History)` function to plot the learning curves by giving the History object returned by the Keras fit function as argument.  \n",
    "2. Train a second model where you replaced the SimpleRNN units with GRUs (LSTM unit equivalent that requires less parameters). Make sure you use the same hyperparameters as before. Plot the learning curves.\n",
    "3. On a single plot, adapt the `plotLearningCurves(History)` function to compare the validation learning curves of the simpleRNN and GRU models. In other words, plot the validation loss vs epoch for pitch/duration for the simpleRNN and GRU models. Do the same for accuracies.\n"
   ]
  },
  {
   "cell_type": "markdown",
   "metadata": {},
   "source": [
    "### Solution"
   ]
  },
  {
   "cell_type": "code",
   "execution_count": null,
   "metadata": {},
   "outputs": [],
   "source": [
    "def buildModel(dictionaries, batch_length, dropout=0.2, activation='GRU', Hsize=128):\n",
    "    X = dict()\n",
    "    H = dict()\n",
    "    M = dict()\n",
    "    Y = dict()\n",
    "    \n",
    "    X['T'] = Input(shape=(batch_length, len(dictionaries['T'])), name=\"XT\")\n",
    "    X['P'] = Input(shape=(batch_length, len(dictionaries['P'])), name=\"XP\")\n",
    "    \n",
    "    M['T'] = Masking(mask_value=0., name=\"MT\")(X['T'])\n",
    "    M['P'] = Masking(mask_value=0., name=\"MP\")(X['P'])\n",
    "    \n",
    "    H['1'] = Concatenate(name=\"MergeX\")([M['T'], M['P']])\n",
    "    if activation == 'GRU':\n",
    "        #Your hidden layer(s) architecture with GRU\n",
    "    elif activation == 'LSTM':\n",
    "        #Your hidden layer(s) architecture with LSTM (For your own curiosity, not required for the project)\n",
    "    elif activation == 'RNN':\n",
    "        #Your hidden layer(s) architecture with SimpleRNN\n",
    "\n",
    "    Y['T'] = TimeDistributed(Dense(len(dictionaries['T']), activation='softmax'), name='YT')(#Input(s) to duration output layer)\n",
    "    Y['P'] = TimeDistributed(Dense(len(dictionaries['P']), activation='softmax'), name='YP')(#Input(s) to pitch output layer)\n",
    "    \n",
    "    model = Model(inputs = [X['T'], X['P']], outputs = [Y['T'], Y['P']])\n",
    "    opt = Adam() \n",
    "    model.compile(\n",
    "        loss='categorical_crossentropy', \n",
    "        optimizer=opt,\n",
    "        metrics=['acc'])\n",
    "    \n",
    "    \n",
    "    return model\n",
    "\n",
    "RNNmodel = buildModel(dictionaries, \n",
    "                      batch_length=,#Put here the number of notes (timesteps) you have in your Zero-padded matrices\n",
    "                      activation='RNN')\n",
    "RNNmodel.summary()"
   ]
  },
  {
   "cell_type": "markdown",
   "metadata": {},
   "source": [
    "**Question**: What are the best prediction accuracies you obtained? With which model?\n",
    "    \n",
    "**Answer**: \n",
    "\n",
    "**Question**: In a few sentences, comment on the plot comparing learning curves for the two activation function.\n",
    "    \n",
    "**Answer**: \n",
    "\n"
   ]
  },
  {
   "cell_type": "markdown",
   "metadata": {
    "collapsed": true
   },
   "source": [
    "## Exercise 6: Visualizing the model\n",
    "### Description\n",
    "\n",
    "1. Using the model.predict and plotMelody functions, show the outputs of your best model when fed with 4 randomly selected melodies. Report the prediction accuracies as well.\n",
    "2. For the same melodies, plot the hidden state evolution accross time steps. Construct a 2 dimensional matrix with the first dimension being time and the second the concatenation of all hidden unit activations and plot it using the provided `plotMelody` function. To get the hidden states of your network, you can modify the `buildModel` function so that you have another computation graph (another model with the same layers, but the output layer) returning you the hidden states. However, other approaches are equally valid.  \n",
    "3. For each hidden unit $i$ and accross the entire dataset, compute the average absolute change in activation $\\Delta A_i$. Be careful not to take masked timesteps into account. Plot the histogram (50 bins) of this average for the RNN and GRU models on the same figure."
   ]
  },
  {
   "cell_type": "markdown",
   "metadata": {},
   "source": [
    "### Solution"
   ]
  },
  {
   "cell_type": "code",
   "execution_count": null,
   "metadata": {},
   "outputs": [],
   "source": []
  },
  {
   "cell_type": "markdown",
   "metadata": {},
   "source": [
    "**Question**: How does the hidden state dynamics explain the performance of the RNN vs GRU models? Explain in term of temporal dependencies and base your explanation on figures obtained in 6.2 and 6.3.\n",
    "    \n",
    "**Answer**: \n"
   ]
  },
  {
   "cell_type": "markdown",
   "metadata": {
    "collapsed": true
   },
   "source": [
    "## Exercise 7: Generation of new melodies\n",
    "### Description\n",
    "\n",
    "1. Use your trained best model to generate new melodies. You can do that by starting with a random note, feeding it to your network and sample the output predictions in order to select the next note. Then add this note to your iteratively growing melodies. For your convenience, we provided the `sample` and `writeMIDI` functions. You can use the first in order to perform temperature sampling. The `writeMIDI` function allows you to write a MIDI file from the integer representation.\n",
    "2. Try different sampling temperatures (e.g. 0.5, 1., 1.5) and observe the effect on your generated melodies.\n",
    "3. Generate 32 melodies with both the RNN and GRU models\n",
    "4. Listen to 4 randomly chosen melodies (2 from the GRU model and 2 from the RNN model). To play in a notebook, use a similar approach as the one shown below assuming you have the files `GRU_1.mid` and `RNN_1.mid` at the same level as this notebook. For your own curiosity, you can also directly listen to the MIDI files with your favorite MIDI player but make sure that we can listen to the 4 extracts directly from this notebook (without rerunning it). You might have to use the \"Trust notebook\" button (in the top right corner) to see the players. This currently only works in jupyter notebook (not jupyter lab). If you have trouble achieving that, upload the MIDI files with your submission.\n",
    "5. (Optional) If you have a big enough computing power, try adding multiple and bigger layers. You could also try to improve your model with different add-ons, e.g. make your model learn when a melody ends, extend it to other datasets, ...\n",
    "6. (Optional) If you are happy with your results submit a 1 hour long generated MIDI file to the [AI-generated music challenge](https://www.crowdai.org/challenges/ai-generated-music-challenge). "
   ]
  },
  {
   "cell_type": "markdown",
   "metadata": {},
   "source": [
    "### Solution"
   ]
  },
  {
   "cell_type": "code",
   "execution_count": null,
   "metadata": {},
   "outputs": [],
   "source": [
    "print('GRU')\n",
    "music21.midi.translate.midiFilePathToStream('GRU_1.mid').show('midi')"
   ]
  },
  {
   "cell_type": "code",
   "execution_count": null,
   "metadata": {},
   "outputs": [],
   "source": [
    "print('RNN')\n",
    "music21.midi.translate.midiFilePathToStream('RNN_1.mid').show('midi')"
   ]
  },
  {
   "cell_type": "markdown",
   "metadata": {},
   "source": [
    "**Question**: What is the effect of the sampling temperature on the generated melodies?\n",
    "    \n",
    "**Answer**: \n",
    "\n",
    "**Question**: Are the generated melodies from the RNN model different from the one generated by the GRU model? If yes, what are the main differences?\n",
    "\n",
    "**Answer**: \n",
    "\n"
   ]
  }
 ],
 "metadata": {
  "anaconda-cloud": {},
  "kernelspec": {
   "display_name": "Python 3",
   "language": "python",
   "name": "python3"
  },
  "language_info": {
   "codemirror_mode": {
    "name": "ipython",
    "version": 3
   },
   "file_extension": ".py",
   "mimetype": "text/x-python",
   "name": "python",
   "nbconvert_exporter": "python",
   "pygments_lexer": "ipython3",
   "version": "3.5.2"
  }
 },
 "nbformat": 4,
 "nbformat_minor": 1
}
