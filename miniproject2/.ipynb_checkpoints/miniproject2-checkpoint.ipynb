{
 "cells": [
  {
   "cell_type": "markdown",
   "metadata": {},
   "source": [
    "# Miniproject 2: Melody generation\n",
    "\n",
    "## Introduction\n",
    "\n",
    "### Description\n",
    "\n",
    "To develop a model employing ANN on real-world data requires going through several major steps, each of which with important design choices that directly impact the end results. In this project, we guide you through these choices starting from a large database of [Irish folk melodies](https://github.com/IraKorshunova/folk-rnn/tree/master/data) to your own model of symbolic music composition. \n",
    "\n",
    "\n",
    "### Prerequisites\n",
    "\n",
    "- You should have a running installation of [tensorflow](https://www.tensorflow.org/install/) and [keras](https://keras.io/).\n",
    "- You should know the concepts \"recurrent neural networks\", \"LSTM\", \"training and validation data\", \"overfitting\" and \"early stopping\".\n",
    "\n",
    "### What you will learn\n",
    "\n",
    "- You will be guided through a data processing procedure and understand the importance of design choices in ANN modeling\n",
    "- You will learn how to define recurrent neural networks in keras and fit them to data.\n",
    "- You will be guided through a prototyping procedure for the application of deep learning to a specific domain.\n",
    "- You will get in contact with concepts discussed later in the lecture, like \"overfitting\", \"LSTM network\", and \"Generative model\".\n",
    "- You will learn to be more patient :) Some fits may take your computer quite a bit of time; run them over night.\n",
    "\n",
    "### Evaluation criteria\n",
    "\n",
    "The evaluation is (mostly) based on the figures you submit and your answer sentences. \n",
    "We will only do random tests of your code and not re-run the full notebook. Please ensure that your notebook is fully executed before handing it in. "
   ]
  },
  {
   "cell_type": "markdown",
   "metadata": {},
   "source": [
    "## Functions and imports\n",
    "\n",
    "For your convenience we import some libraries and provide some functions below. Some libraries (`midi` and `music21==5.1.0`) should be added. If you work with the docker image, pull it `docker pull zifeo/artificial-neural-networks:cpu` before to get the latest version where these libraries are added and stop/relaunch the container (as stated in the instructions https://github.com/zifeo/artificial-neural-networks). If you work locally, be sure to import them. If you do not find the midi library for python3, install it with `python setup.py install` inside the `python3-midi` folder after cloning https://github.com/louisabraham/python3-midi.git.\n",
    "\n",
    "Finally, fill in your sciper number(s) for the random seed and simply run the following cell."
   ]
  },
  {
   "cell_type": "code",
   "execution_count": 1,
   "metadata": {},
   "outputs": [
    {
     "name": "stderr",
     "output_type": "stream",
     "text": [
      "Using TensorFlow backend.\n"
     ]
    }
   ],
   "source": [
    "sciper = {'student_1': 236838, \n",
    "          'student_2': 234445}\n",
    "seed = sciper['student_1']+sciper['student_2']\n",
    "\n",
    "%matplotlib inline\n",
    "\n",
    "import numpy as np\n",
    "import matplotlib.pyplot as plt\n",
    "import os, sys\n",
    "\n",
    "plt.rcParams['font.size'] = 28\n",
    "plt.style.use('ggplot')\n",
    "plt.rcParams[\"axes.grid\"] = False\n",
    "c = plt.rcParams['axes.prop_cycle'].by_key()['color']\n",
    "plt.rcParams['figure.figsize'] = 8, 4\n",
    "\n",
    "import keras\n",
    "from keras.models import Model, load_model\n",
    "from keras.layers import Input, Masking, TimeDistributed, Dense, Concatenate, Dropout, LSTM, GRU, SimpleRNN\n",
    "from keras.optimizers import Adam\n",
    "from keras.utils import np_utils, to_categorical\n",
    "from keras.preprocessing.sequence import pad_sequences\n",
    "from keras.callbacks import ModelCheckpoint\n",
    "\n",
    "import midi\n",
    "import music21\n",
    "\n",
    "import json"
   ]
  },
  {
   "cell_type": "code",
   "execution_count": 2,
   "metadata": {},
   "outputs": [],
   "source": [
    "def plotMelody(P, T, dictionaries, PrP=None, PrT=None, H=None):\n",
    "    \"\"\"\n",
    "    P: The pitch array (integer representation) or matrix (one-hot encoding)\n",
    "    T: The duration array (integer representation) or matrix (one-hot encoding)\n",
    "    dictionaries: The dictionaries relating integer to a pitch or duration\n",
    "    PrP: (Optional) If provided with PrT, plot the transition probabilities\n",
    "    PrT: (Optional) If provided with PrP, plot the transition probabilities\n",
    "    H: (Optional) Add a plot with the hidden state dynamic sorted by frequency\n",
    "    \"\"\"\n",
    "    P = np.asarray(P)\n",
    "    T = np.asarray(T)\n",
    "    if len(P.shape) == 1:#if array\n",
    "        P = np_utils.to_categorical(P, len(dictionaries['P']))\n",
    "    if len(T.shape) == 1:#if array\n",
    "        T = np_utils.to_categorical(T, len(dictionaries['T']))\n",
    "    \n",
    "    xlim = [-1,np.where(P==1)[0][-1]+1]\n",
    "    \n",
    "    activeidxes = np.where(np.sum(P, axis=0)>1.)[0]\n",
    "    plt.figure(figsize=(8,4))\n",
    "    if PrP is not None:\n",
    "        targets = np.where(P[:,activeidxes]==1)\n",
    "        plt.imshow(PrP[:,activeidxes].T, origin='lower', aspect='auto', interpolation='nearest', cmap=plt.cm.gray_r, vmin=0, vmax=1)\n",
    "        plt.scatter(targets[0]-1,targets[1], color='red',s=10, marker='.') \n",
    "    else:\n",
    "        plt.imshow(P[:,activeidxes].T, origin='lower', aspect='auto', interpolation='nearest', cmap=plt.cm.gray_r, vmin=0, vmax=1)\n",
    "    plt.ylim([-0.5,len(activeidxes)-0.5])\n",
    "    plt.yticks(range(len(activeidxes)),[dictionaries[\"P\"][i] for i in activeidxes])\n",
    "    plt.tight_layout()\n",
    "    plt.xlabel(\"$n$\")\n",
    "    plt.ylabel(\"$P[n]$\")\n",
    "    plt.xlim(xlim)\n",
    "    plt.show()\n",
    "    \n",
    "    activeidxes = np.where(np.sum(T, axis=0)>1.)[0]\n",
    "    plt.figure(figsize=(8,4))\n",
    "    if PrT is not None:\n",
    "        targets = np.where(T[:,activeidxes]==1)\n",
    "        plt.imshow(PrT[:,activeidxes].T, origin='lower', aspect='auto', interpolation='nearest', cmap=plt.cm.gray_r, vmin=0, vmax=1)\n",
    "        plt.scatter(targets[0]-1,targets[1], color='red',s=10, marker='.')\n",
    "    else:\n",
    "        plt.imshow(T[:,activeidxes].T, origin='lower', aspect='auto', interpolation='nearest', cmap=plt.cm.gray_r, vmin=0, vmax=1)\n",
    "    plt.ylim([-0.5,len(activeidxes)-0.5])\n",
    "    plt.yticks(range(len(activeidxes)),[dictionaries[\"T\"][i] for i in activeidxes])\n",
    "    plt.tight_layout()\n",
    "    plt.xlabel(\"$n$\")\n",
    "    plt.ylabel(\"$T[n]$\")\n",
    "    plt.xlim(xlim)\n",
    "    plt.show()\n",
    "    \n",
    "    \n",
    "    if H is not None:\n",
    "        diff = np.mean([[abs(j-i) for i,j in zip(H[:xlim[1]-1,k], H[1:xlim[1],k])] for k in range(H.shape[1])], axis=1)\n",
    "        sortidx = np.argsort(-diff)\n",
    "        H = H[:,sortidx]\n",
    "        plt.figure(figsize=(8,4))\n",
    "        plt.imshow(H.T, origin='lower', aspect='auto', interpolation='nearest', cmap=plt.cm.seismic, vmin=-1, vmax=1)\n",
    "        plt.xlim([-1,np.where(T==1)[0][-1]+1])\n",
    "        plt.tight_layout()\n",
    "        plt.xlabel(\"$n$\")\n",
    "        plt.ylabel(\"$H[n]$\")\n",
    "        plt.show()\n",
    "\n",
    "\n",
    "def plotLearningCurves(History):\n",
    "    \n",
    "    log = History.history\n",
    "    \n",
    "    plt.figure(figsize=(8,4))\n",
    "    plt.plot(log['YP_loss'], '--', c=c[0], label='Pitch train loss')\n",
    "    plt.plot(log['val_YP_loss'], c=c[0], label='Pitch val loss')\n",
    "    \n",
    "    plt.plot(log['YT_loss'], '--', c=c[1], label='Dur train loss')\n",
    "    plt.plot(log['val_YT_loss'], c=c[1], label='Dur val loss')\n",
    "    plt.legend(loc='best')\n",
    "    \n",
    "    plt.figure(figsize=(8,4))\n",
    "    plt.plot(log['YP_acc'], '--', c=c[0], label='Pitch train acc')\n",
    "    plt.plot(log['val_YP_acc'], c=c[0], label='Pitch val acc')\n",
    "    \n",
    "    plt.plot(log['YT_acc'], '--', c=c[1], label='Dur train acc')\n",
    "    plt.plot(log['val_YT_acc'], c=c[1], label='Dur val acc')\n",
    "    plt.legend(loc='best')\n",
    "\n",
    "def sample(preds, temperature=1.):\n",
    "    \"\"\"Helper function to sample an index from a probability array\"\"\"\n",
    "    preds = np.asarray(preds).astype('float64')\n",
    "    preds = np.log(preds) / temperature\n",
    "    exp_preds = np.exp(preds)\n",
    "    preds = exp_preds / np.sum(exp_preds)\n",
    "    probas = np.random.multinomial(1, preds, 1)\n",
    "    return np.argmax(probas)\n",
    "\n",
    "def writeMIDI(xP, xT, dictionaries, label):\n",
    "\n",
    "    # Instantiate a MIDI Pattern (contains a list of tracks)\n",
    "    pattern = midi.Pattern(format = 0, resolution=480)\n",
    "    # Instantiate a MIDI Track (contains a list of MIDI events)\n",
    "    track = midi.Track()\n",
    "    # Append the track to the pattern\n",
    "    pattern.append(track)\n",
    "    Events = []\n",
    "    \n",
    "    pseq = [dictionaries['P'][p] for p in xP]\n",
    "    tseq = [dictionaries['T'][t] for t in xT]\n",
    "    for t, p in zip(tseq, pseq):\n",
    "        e = midi.NoteOnEvent(tick=0, velocity=90, pitch=p)\n",
    "        track.append(e)\n",
    "        e = midi.NoteOffEvent(tick=t, velocity=0, pitch=p)\n",
    "        track.append(e)\n",
    "        \n",
    "    eot = midi.EndOfTrackEvent(tick=1)\n",
    "    track.append(eot)\n",
    "    # Save the pattern to disk\n",
    "    midi.write_midifile(label, pattern)"
   ]
  },
  {
   "cell_type": "markdown",
   "metadata": {},
   "source": [
    "## Exercise 1 : Data processing\n",
    "### Description\n",
    "\n",
    "For a real world application of ANNs, the original data should be translated into a representation understandable by an ANN. This step is often neglected but is of outmost importance. In order for you to better understand how ANN are applied to real world problems, the first step of this miniproject will guide you through a possible representation. \n",
    "\n",
    "Note that in general, your representation should be normalized in order to obtain homogeneous data from which a structure can be extracted by your ANN model. Importantly, all processing steps toward your representation should not (or minimally) distort your original data.\n",
    "\n",
    "To represent MIDI files, we provide you with a Python MIDI library. You should then\n",
    "\n",
    "0. Download the MIDI tar file from [this link](https://github.com/IraKorshunova/folk-rnn/tree/master/data) and put it in a folder named \"chorpus\" at the same level of this notebook.\n",
    "1. Parse the chorpus to extract the label of (a random subset of) the data (code is provided)\n",
    "2. Read each MIDI file in the subset with the midi [library](https://github.com/louisabraham/python3-midi)\n",
    "3. For each data sequence extract the sequence of MIDI notes defined by two dimensions (\"P\": the sequence of note pitches (integer between 0 and 127 representing a piano key), \"T\": the sequence of note durations.\n",
    "4. Select two melodies and display them both as sequences of MIDI events and sequence of notes in two dimensions. Control that your representation is correct.\n",
    "\n",
    "For step 3, you should learn how MIDI files are constructed. Below, we give a minimal explanation and some code for this particular project. For a more complete explanation, look for MIDI in your favorite search engine. Given this dataset, you can observe that it is monophonic (one note at a time) and there's a small delay (1 tick) inbetween each note. You could decide to ignore this delay or correct (recommanded) for it.\n",
    "\n",
    "A MIDI files is composed of timed events of many kinds. For this project, we focus on the events related to notes being played or stopped. Those are MIDI events \"Note Off\" and \"Note On\". Each event is timed with respect with the previous one (dt). The duration of a note is therefore given by the cummulated dt inbetween the event associated to a note's onset and the event associated with the same note's offset.\n",
    "        "
   ]
  },
  {
   "cell_type": "markdown",
   "metadata": {},
   "source": [
    "### Minimal code to read MIDI files"
   ]
  },
  {
   "cell_type": "code",
   "execution_count": 3,
   "metadata": {
    "scrolled": true
   },
   "outputs": [
    {
     "name": "stdout",
     "output_type": "stream",
     "text": [
      "chorpus/sessiontune0.mid\n",
      "########################################\n",
      "tick \t pitch \t message \t velocity\n",
      "########################################\n",
      "\n",
      "1 \t 67 \t Note On \t 105\n",
      "240 \t 67 \t Note Off \t 0\n",
      "241 \t 64 \t Note On \t 80\n",
      "480 \t 64 \t Note Off \t 0\n",
      "481 \t 64 \t Note On \t 80\n",
      "720 \t 64 \t Note Off \t 0\n",
      "721 \t 64 \t Note On \t 95\n",
      "1200 \t 64 \t Note Off \t 0\n",
      "1201 \t 62 \t Note On \t 80\n",
      ". \t . \t . \t \t .\n",
      ". \t . \t . \t \t .\n",
      ". \t . \t . \t \t .\n",
      "33601 \t 67 \t Note On \t 80\n",
      "33840 \t 67 \t Note Off \t 0\n",
      "33841 \t 69 \t Note On \t 95\n",
      "34080 \t 69 \t Note Off \t 0\n",
      "34081 \t 71 \t Note On \t 80\n",
      "34320 \t 71 \t Note Off \t 0\n",
      "34321 \t 72 \t Note On \t 80\n",
      "34560 \t 72 \t Note Off \t 0\n",
      "########################################\n",
      "\n",
      "4577/45854 melodies retained\n"
     ]
    }
   ],
   "source": [
    "def display(midi_file=\"chorpus/sessiontune0.mid\"):\n",
    "    #index 0 for first track only\n",
    "    events = midi.read_midifile(midi_file)[0] \n",
    "    tick = 0\n",
    "    print(midi_file)\n",
    "    print(\"#\"*40)\n",
    "    print(\"tick \\t pitch \\t message \\t velocity\")\n",
    "    print(\"#\"*40+'\\n')\n",
    "    for n, event in enumerate(events):\n",
    "        tick += event.tick\n",
    "        if event.name in ['Note On', 'Note Off']:\n",
    "            if n<13 or n>len(events)-10:\n",
    "                print(\"%i \\t %i \\t %s \\t %i\"%(tick, event.data[0], event.name, event.data[1]))\n",
    "            if n in range(20,23):\n",
    "                print(\". \\t . \\t . \\t \\t .\")\n",
    "    print(\"#\"*40+'\\n')\n",
    "\n",
    "display()\n",
    "\n",
    "datapath = \"chorpus/\"\n",
    "dataset = {}\n",
    "np.random.seed(seed)\n",
    "\n",
    "for filename in os.listdir(datapath):\n",
    "    if filename.endswith(\"mid\"):\n",
    "        label = filename[:-4]\n",
    "        #Down sample dataset\n",
    "        if np.random.rand() < 0.1:\n",
    "            dataset[label] = {\"T\":[], \"P\": []}\n",
    "print(\"%i/%i melodies retained\"%(len(list(dataset.keys())), len(os.listdir(datapath))))"
   ]
  },
  {
   "cell_type": "markdown",
   "metadata": {},
   "source": [
    "### Solution"
   ]
  },
  {
   "cell_type": "code",
   "execution_count": 4,
   "metadata": {},
   "outputs": [],
   "source": [
    "def parseMIDI(midi_file):\n",
    "    events = midi.read_midifile(midi_file)[0] #index 0 for first track only  \n",
    "    T = []; P = []\n",
    "    for n, event in enumerate(events):\n",
    "        #insert your code here...\n",
    "        if event.name in ['Note Off']:\n",
    "            tick = event.tick-1 # -1 to remove the 1 tick delay between each note\n",
    "            if tick > 0:\n",
    "                T.append(tick)\n",
    "                P.append(event.data[0])\n",
    "    return P, T"
   ]
  },
  {
   "cell_type": "code",
   "execution_count": 5,
   "metadata": {},
   "outputs": [],
   "source": [
    "for label in list(dataset.keys()):\n",
    "    Pseq, Tseq = parseMIDI(datapath+label+\".mid\")\n",
    "    dataset[label]['T']= Tseq\n",
    "    dataset[label]['P']= Pseq"
   ]
  },
  {
   "cell_type": "code",
   "execution_count": 6,
   "metadata": {},
   "outputs": [],
   "source": [
    "def display_seq(P_list, T_list):\n",
    "    tick = 0\n",
    "    print(\"#\"*15)\n",
    "    print(\"tick \\t pitch\")\n",
    "    print(\"#\"*15+'\\n')\n",
    "    for p, t in zip(P_list, T_list):   \n",
    "        tick += t\n",
    "        print(\"%i \\t %i\"%(tick, p,))  \n",
    "    print(\"#\"*15+'\\n')"
   ]
  },
  {
   "cell_type": "code",
   "execution_count": 7,
   "metadata": {},
   "outputs": [],
   "source": [
    "def simple_plot(P_list, T_list, title):\n",
    "    #plot melody in 2D\n",
    "    t = T_list.copy(); p = P_list.copy()\n",
    "    t.insert(0,0)\n",
    "    p.insert(0,p[0])\n",
    "    plt.figure(figsize=(15, 5))\n",
    "    plt.step(np.cumsum(t),p)\n",
    "    plt.title(title)\n",
    "    plt.xlabel(\"Ticks\")\n",
    "    plt.ylabel(\"Pitches\")    "
   ]
  },
  {
   "cell_type": "code",
   "execution_count": 8,
   "metadata": {},
   "outputs": [
    {
     "name": "stdout",
     "output_type": "stream",
     "text": [
      "Melody: sessiontune14735\n",
      "###############\n",
      "tick \t pitch\n",
      "###############\n",
      "\n",
      "158 \t 67\n",
      "316 \t 69\n",
      "474 \t 71\n",
      "952 \t 72\n",
      "1430 \t 64\n",
      "1908 \t 67\n",
      "2146 \t 69\n",
      "2384 \t 67\n",
      "2862 \t 65\n",
      "3340 \t 59\n",
      "3818 \t 62\n",
      "4136 \t 74\n",
      "4294 \t 76\n",
      "4612 \t 77\n",
      "4770 \t 76\n",
      "5088 \t 74\n",
      "5246 \t 72\n",
      "5564 \t 71\n",
      "5722 \t 69\n",
      "6040 \t 67\n",
      "6198 \t 65\n",
      "6516 \t 64\n",
      "6674 \t 65\n",
      "6992 \t 67\n",
      "7150 \t 69\n",
      "7628 \t 67\n",
      "7786 \t 67\n",
      "7944 \t 69\n",
      "8102 \t 71\n",
      "8580 \t 72\n",
      "9058 \t 64\n",
      "9536 \t 67\n",
      "9774 \t 69\n",
      "10012 \t 67\n",
      "10490 \t 65\n",
      "10968 \t 59\n",
      "11446 \t 62\n",
      "11764 \t 74\n",
      "11922 \t 76\n",
      "12240 \t 77\n",
      "12398 \t 76\n",
      "12716 \t 74\n",
      "12874 \t 72\n",
      "13192 \t 71\n",
      "13350 \t 67\n",
      "13668 \t 69\n",
      "13826 \t 71\n",
      "14304 \t 72\n",
      "14782 \t 72\n",
      "15260 \t 72\n",
      "15418 \t 67\n",
      "15576 \t 69\n",
      "15734 \t 71\n",
      "16212 \t 72\n",
      "16690 \t 64\n",
      "17168 \t 67\n",
      "17406 \t 69\n",
      "17644 \t 67\n",
      "18122 \t 65\n",
      "18600 \t 59\n",
      "19078 \t 62\n",
      "19396 \t 74\n",
      "19554 \t 76\n",
      "19872 \t 77\n",
      "20030 \t 76\n",
      "20348 \t 74\n",
      "20506 \t 72\n",
      "20824 \t 71\n",
      "20982 \t 69\n",
      "21300 \t 67\n",
      "21458 \t 65\n",
      "21776 \t 64\n",
      "21934 \t 65\n",
      "22252 \t 67\n",
      "22410 \t 69\n",
      "22888 \t 67\n",
      "23046 \t 67\n",
      "23204 \t 69\n",
      "23362 \t 71\n",
      "23840 \t 72\n",
      "24318 \t 64\n",
      "24796 \t 67\n",
      "25034 \t 69\n",
      "25272 \t 67\n",
      "25750 \t 65\n",
      "26228 \t 59\n",
      "26706 \t 62\n",
      "27024 \t 74\n",
      "27182 \t 76\n",
      "27500 \t 77\n",
      "27658 \t 76\n",
      "27976 \t 74\n",
      "28134 \t 72\n",
      "28452 \t 71\n",
      "28610 \t 67\n",
      "28928 \t 69\n",
      "29086 \t 71\n",
      "29564 \t 72\n",
      "30042 \t 72\n",
      "30520 \t 72\n",
      "30998 \t 71\n",
      "31476 \t 74\n",
      "31954 \t 71\n",
      "32192 \t 69\n",
      "32430 \t 67\n",
      "32908 \t 77\n",
      "33386 \t 76\n",
      "34344 \t 72\n",
      "34822 \t 77\n",
      "35300 \t 76\n",
      "35778 \t 72\n",
      "36016 \t 71\n",
      "36254 \t 72\n",
      "36732 \t 76\n",
      "37210 \t 74\n",
      "38168 \t 71\n",
      "38646 \t 71\n",
      "39124 \t 74\n",
      "39602 \t 71\n",
      "39840 \t 69\n",
      "40078 \t 67\n",
      "40556 \t 77\n",
      "41034 \t 76\n",
      "41992 \t 72\n",
      "42470 \t 77\n",
      "42948 \t 76\n",
      "43426 \t 69\n",
      "43664 \t 71\n",
      "43902 \t 69\n",
      "44380 \t 67\n",
      "44858 \t 71\n",
      "45336 \t 67\n",
      "45814 \t 71\n",
      "46292 \t 74\n",
      "46770 \t 71\n",
      "47008 \t 69\n",
      "47246 \t 67\n",
      "47724 \t 77\n",
      "48202 \t 76\n",
      "49160 \t 72\n",
      "49638 \t 77\n",
      "50116 \t 76\n",
      "50594 \t 72\n",
      "50832 \t 71\n",
      "51070 \t 72\n",
      "51548 \t 76\n",
      "52026 \t 74\n",
      "52984 \t 71\n",
      "53462 \t 71\n",
      "53940 \t 74\n",
      "54418 \t 71\n",
      "54656 \t 69\n",
      "54894 \t 67\n",
      "55372 \t 77\n",
      "55850 \t 76\n",
      "56808 \t 72\n",
      "57286 \t 77\n",
      "57764 \t 76\n",
      "58242 \t 69\n",
      "58480 \t 71\n",
      "58718 \t 69\n",
      "59196 \t 67\n",
      "59674 \t 71\n",
      "60152 \t 67\n",
      "60390 \t 60\n",
      "60628 \t 58\n",
      "61106 \t 57\n",
      "61584 \t 60\n",
      "62302 \t 65\n",
      "62540 \t 67\n",
      "63018 \t 65\n",
      "63496 \t 64\n",
      "64454 \t 67\n",
      "64932 \t 74\n",
      "65410 \t 67\n",
      "65888 \t 74\n",
      "66366 \t 67\n",
      "66844 \t 74\n",
      "67322 \t 72\n",
      "68280 \t 69\n",
      "68758 \t 57\n",
      "69236 \t 60\n",
      "69954 \t 65\n",
      "70192 \t 67\n",
      "70670 \t 65\n",
      "71148 \t 64\n",
      "72106 \t 67\n",
      "72584 \t 74\n",
      "73062 \t 67\n",
      "73540 \t 74\n",
      "74018 \t 67\n",
      "74496 \t 65\n",
      "74974 \t 77\n",
      "75452 \t 77\n",
      "75690 \t 60\n",
      "75928 \t 58\n",
      "76406 \t 57\n",
      "76884 \t 60\n",
      "77602 \t 65\n",
      "77840 \t 67\n",
      "78318 \t 65\n",
      "78796 \t 64\n",
      "79754 \t 67\n",
      "80232 \t 74\n",
      "80710 \t 67\n",
      "81188 \t 74\n",
      "81666 \t 67\n",
      "82144 \t 74\n",
      "82622 \t 72\n",
      "83580 \t 69\n",
      "84058 \t 57\n",
      "84536 \t 60\n",
      "85254 \t 65\n",
      "85492 \t 67\n",
      "85970 \t 65\n",
      "86448 \t 64\n",
      "87406 \t 67\n",
      "87884 \t 74\n",
      "88362 \t 67\n",
      "88840 \t 74\n",
      "89318 \t 67\n",
      "89796 \t 65\n",
      "90274 \t 77\n",
      "90752 \t 77\n",
      "###############\n",
      "\n",
      "Melody: sessiontune14336\n",
      "###############\n",
      "tick \t pitch\n",
      "###############\n",
      "\n",
      "238 \t 64\n",
      "476 \t 65\n",
      "714 \t 67\n",
      "952 \t 64\n",
      "1430 \t 60\n",
      "1668 \t 64\n",
      "1906 \t 60\n",
      "2144 \t 55\n",
      "2382 \t 60\n",
      "2620 \t 64\n",
      "2858 \t 60\n",
      "3096 \t 67\n",
      "3334 \t 60\n",
      "3572 \t 64\n",
      "3810 \t 60\n",
      "4048 \t 64\n",
      "4286 \t 65\n",
      "4524 \t 67\n",
      "4762 \t 64\n",
      "5000 \t 60\n",
      "5238 \t 64\n",
      "5476 \t 62\n",
      "5714 \t 60\n",
      "5952 \t 59\n",
      "6190 \t 60\n",
      "6428 \t 62\n",
      "6666 \t 64\n",
      "6904 \t 65\n",
      "7142 \t 62\n",
      "7380 \t 67\n",
      "7618 \t 65\n",
      "7856 \t 64\n",
      "8094 \t 65\n",
      "8332 \t 67\n",
      "8570 \t 64\n",
      "9048 \t 60\n",
      "9286 \t 64\n",
      "9524 \t 60\n",
      "9762 \t 55\n",
      "10000 \t 60\n",
      "10238 \t 64\n",
      "10476 \t 62\n",
      "10714 \t 64\n",
      "10952 \t 62\n",
      "11190 \t 64\n",
      "11428 \t 65\n",
      "11666 \t 67\n",
      "11904 \t 64\n",
      "12142 \t 65\n",
      "12380 \t 62\n",
      "12618 \t 64\n",
      "12856 \t 60\n",
      "13094 \t 62\n",
      "13332 \t 60\n",
      "13570 \t 59\n",
      "13808 \t 60\n",
      "14046 \t 62\n",
      "14284 \t 64\n",
      "14522 \t 65\n",
      "14760 \t 62\n",
      "14998 \t 59\n",
      "15236 \t 62\n",
      "15474 \t 64\n",
      "15712 \t 65\n",
      "15950 \t 67\n",
      "16188 \t 64\n",
      "16666 \t 60\n",
      "16904 \t 64\n",
      "17142 \t 60\n",
      "17380 \t 55\n",
      "17618 \t 60\n",
      "17856 \t 64\n",
      "18094 \t 60\n",
      "18332 \t 67\n",
      "18570 \t 60\n",
      "18808 \t 64\n",
      "19046 \t 60\n",
      "19284 \t 64\n",
      "19522 \t 65\n",
      "19760 \t 67\n",
      "19998 \t 64\n",
      "20236 \t 60\n",
      "20474 \t 64\n",
      "20712 \t 62\n",
      "20950 \t 60\n",
      "21188 \t 59\n",
      "21426 \t 60\n",
      "21664 \t 62\n",
      "21902 \t 64\n",
      "22140 \t 65\n",
      "22378 \t 62\n",
      "22616 \t 67\n",
      "22854 \t 65\n",
      "23092 \t 64\n",
      "23330 \t 65\n",
      "23568 \t 67\n",
      "23806 \t 64\n",
      "24284 \t 60\n",
      "24522 \t 64\n",
      "24760 \t 60\n",
      "24998 \t 55\n",
      "25236 \t 60\n",
      "25474 \t 64\n",
      "25712 \t 62\n",
      "25950 \t 64\n",
      "26188 \t 62\n",
      "26426 \t 64\n",
      "26664 \t 65\n",
      "26902 \t 67\n",
      "27140 \t 64\n",
      "27378 \t 65\n",
      "27616 \t 62\n",
      "27854 \t 64\n",
      "28092 \t 60\n",
      "28330 \t 62\n",
      "28568 \t 60\n",
      "28806 \t 59\n",
      "29044 \t 60\n",
      "29282 \t 62\n",
      "29520 \t 64\n",
      "29758 \t 65\n",
      "29996 \t 69\n",
      "30234 \t 67\n",
      "30472 \t 65\n",
      "30710 \t 64\n",
      "30948 \t 65\n",
      "31186 \t 67\n",
      "31424 \t 69\n",
      "31662 \t 67\n",
      "31900 \t 65\n",
      "32138 \t 64\n",
      "32376 \t 65\n",
      "32614 \t 67\n",
      "32852 \t 64\n",
      "33090 \t 72\n",
      "33328 \t 64\n",
      "33566 \t 74\n",
      "33804 \t 64\n",
      "34042 \t 72\n",
      "34280 \t 64\n",
      "34518 \t 64\n",
      "34756 \t 65\n",
      "34994 \t 67\n",
      "35232 \t 69\n",
      "35470 \t 67\n",
      "35708 \t 65\n",
      "35946 \t 64\n",
      "36184 \t 65\n",
      "36662 \t 62\n",
      "36900 \t 74\n",
      "37138 \t 71\n",
      "37376 \t 72\n",
      "37614 \t 71\n",
      "37852 \t 69\n",
      "38090 \t 67\n",
      "38328 \t 64\n",
      "38566 \t 65\n",
      "38804 \t 67\n",
      "39042 \t 69\n",
      "39280 \t 67\n",
      "39518 \t 65\n",
      "39756 \t 64\n",
      "39994 \t 65\n",
      "40232 \t 67\n",
      "40470 \t 64\n",
      "40708 \t 72\n",
      "40946 \t 64\n",
      "41184 \t 74\n",
      "41422 \t 64\n",
      "41660 \t 72\n",
      "41898 \t 64\n",
      "42376 \t 71\n",
      "42614 \t 71\n",
      "42852 \t 69\n",
      "43090 \t 67\n",
      "43328 \t 69\n",
      "43566 \t 71\n",
      "43804 \t 72\n",
      "44282 \t 74\n",
      "44520 \t 74\n",
      "44758 \t 72\n",
      "44996 \t 71\n",
      "45234 \t 67\n",
      "45472 \t 65\n",
      "45710 \t 62\n",
      "45948 \t 64\n",
      "46186 \t 65\n",
      "46424 \t 67\n",
      "46662 \t 69\n",
      "46900 \t 67\n",
      "47138 \t 65\n",
      "47376 \t 64\n",
      "47614 \t 65\n",
      "47852 \t 67\n",
      "48090 \t 64\n",
      "48328 \t 72\n",
      "48566 \t 64\n",
      "48804 \t 76\n",
      "49042 \t 64\n",
      "49280 \t 72\n",
      "49518 \t 64\n",
      "49756 \t 64\n",
      "49994 \t 65\n",
      "50232 \t 67\n",
      "50470 \t 69\n",
      "50708 \t 67\n",
      "50946 \t 65\n",
      "51184 \t 64\n",
      "51422 \t 65\n",
      "51900 \t 62\n",
      "52138 \t 74\n",
      "52376 \t 71\n",
      "52614 \t 72\n",
      "52852 \t 71\n",
      "53090 \t 69\n",
      "53328 \t 67\n",
      "53566 \t 64\n",
      "53804 \t 65\n",
      "54042 \t 67\n",
      "54280 \t 69\n",
      "54518 \t 67\n",
      "54756 \t 65\n",
      "54994 \t 64\n",
      "55232 \t 65\n",
      "55470 \t 67\n",
      "55708 \t 64\n",
      "55946 \t 72\n",
      "56184 \t 64\n",
      "56422 \t 74\n",
      "56660 \t 64\n",
      "56898 \t 72\n",
      "57136 \t 69\n",
      "57614 \t 71\n",
      "57852 \t 71\n",
      "58090 \t 69\n",
      "58328 \t 67\n",
      "58566 \t 69\n",
      "58804 \t 71\n",
      "59042 \t 72\n",
      "59520 \t 74\n",
      "59758 \t 74\n",
      "59996 \t 72\n",
      "60234 \t 71\n",
      "60472 \t 67\n",
      "60710 \t 65\n",
      "60948 \t 62\n",
      "###############\n",
      "\n"
     ]
    },
    {
     "data": {
      "image/png": "[encoded data removed]",
      "text/plain": [
       "<Figure size 1080x360 with 1 Axes>"
      ]
     },
     "metadata": {
      "image/png": {
       "height": 335,
       "width": 898
      }
     },
     "output_type": "display_data"
    },
    {
     "data": {
      "image/png": "[encoded data removed]",
      "text/plain": [
       "<Figure size 1080x360 with 1 Axes>"
      ]
     },
     "metadata": {
      "image/png": {
       "height": 335,
       "width": 888
      }
     },
     "output_type": "display_data"
    }
   ],
   "source": [
    "for label in np.random.choice(list(dataset.keys()), 2):\n",
    "    \n",
    "    #print MIDI sequence\n",
    "    print(\"Melody: %s\"%(label))\n",
    "    display_seq(dataset[label]['P'], dataset[label]['T'])\n",
    "    \n",
    "    #plot melody in 2D\n",
    "    simple_plot(dataset[label]['P'],dataset[label]['T'], label)"
   ]
  },
  {
   "cell_type": "markdown",
   "metadata": {},
   "source": [
    "## Exercise 2: Tokenzation and translation to integer\n",
    "### Description\n",
    "\n",
    "Now you should have a \"dataset\" dictionary where each entry corresponds to one melody example from a subset of the full dataset. In turn, every melody example is represented by a dictionary with two sequences: the \"P\" entry being the sequence of pitches and the \"T\" entry, the sequence of durations. Here, you will implement the first steps to translate this dataset in a language that can be read by your ANN models. To achieve that, we will later use the [one-hot encoding scheme](https://machinelearningmastery.com/why-one-hot-encode-data-in-machine-learning/), which will associate each input (and output) unit of your network to a unique pitch or duration. In your network, these units will then be sequentially activated in the same order as their corresponding pitch/duration in your dataset. And at each note, the model will be trained to approximate the probability distributions of the upcoming pitch and duration.\n",
    "\n",
    "1. Gather in a list of all possible pitches and durations in your dataset. These two lists will be your \"dictionaries\" translating a pitch/duration to a unique integer between 0 and the number of entries (-1) in the pitch/duration dictionary.\n",
    "2. Translate the pitch/duration sequence of each melody to the integer representation.\n",
    "3. Select randomly two melodies and display them in the note representation and translated to integer. Check that the translation is correct."
   ]
  },
  {
   "cell_type": "markdown",
   "metadata": {},
   "source": [
    "### Solution"
   ]
  },
  {
   "cell_type": "markdown",
   "metadata": {},
   "source": [
    "#### Defining some useful functions"
   ]
  },
  {
   "cell_type": "markdown",
   "metadata": {},
   "source": [
    "def construct_possible_values(dataset):\n",
    "\n",
    "    Creates lists of all possible values of pitch and ticks in the dataset\n",
    "    \"\"\"\n",
    "    possible_values = {'T':[],'P':[]}\n",
    "    for label in list(dataset.keys()):\n",
    "        \n",
    "        for t in dataset[label]['T']:\n",
    "            if t not in possible_values['T']:\n",
    "                possible_values['T'].append(t)\n",
    "                \n",
    "        for p in dataset[label]['P']:\n",
    "            if p not in possible_values['P']:\n",
    "                possible_values['P'].append(p)\n",
    "        \n",
    "    possible_values['T'].sort()\n",
    "    possible_values['P'].sort()\n",
    "    return possible_values\n",
    "\n",
    "\n",
    "def one_hot_encoding(possible_values):\n",
    "    \"\"\"\n",
    "    Construct the coded list s.t. element\n",
    "    e = coded_list[i] coding is at coded_list[i+1]\n",
    "    \"\"\"\n",
    "    coded_list = []\n",
    "    for index in range(len(possible_values)):\n",
    "        element = possible_values[index]\n",
    "        coded_list.append(element)\n",
    "        coded_list.append(index)\n",
    "    return coded_list\n",
    "\n",
    "def find_element_in_list(element, list):\n",
    "    try:\n",
    "        index_element = list.index(element)\n",
    "        return index_element\n",
    "    except ValueError:\n",
    "        return None\n",
    "    \n",
    "def translate_to_integer_sequ(dataset, coded_list):\n",
    "    \"\"\"\n",
    "    Catch the index i in the coding_list and add its\n",
    "    coded element coding_list[i+1] to the integer_sequence\n",
    "    for each element of the sequence given\n",
    "    \"\"\"\n",
    "    t_coded = []\n",
    "    p_coded = []\n",
    "    for label in list(dataset.keys()):\n",
    "        T = dataset[label]['T']\n",
    "        P = dataset[label]['P']\n",
    "        for t,p in zip(T,P):\n",
    "            t_index = find_element_in_list(t,coded_list)\n",
    "            p_index = find_element_in_list(p,coded_list)\n",
    "            t_coded.append(coded_list[t_index+1])\n",
    "            p_coded.append(coded_list[p_index+1])\n",
    "    coded_dataset = dataset\n",
    "    coded_dataset[label]['T'] = t_coded\n",
    "    coded_dataset[label]['P'] = p_coded\n",
    "    return coded_dataset\n"
   ]
  },
  {
   "cell_type": "code",
   "execution_count": 9,
   "metadata": {},
   "outputs": [],
   "source": [
    "def create_dictionary(dataset):\n",
    "    possible_values = {'T':[],'P':[]}\n",
    "    for label in list(dataset.keys()):\n",
    "        \n",
    "        for t in dataset[label]['T']:\n",
    "            if t not in possible_values['T']:\n",
    "                possible_values['T'].append(t)\n",
    "                \n",
    "        for p in dataset[label]['P']:\n",
    "            if p not in possible_values['P']:\n",
    "                possible_values['P'].append(p)\n",
    "    possible_values['T'].sort()\n",
    "    possible_values['P'].sort()\n",
    "    dictionary = {}\n",
    "    dictionary['T'] = {key: value for (key,value) in zip(range(0,len(possible_values['T'])),possible_values['T'])}\n",
    "    dictionary['P'] = {key: value for (key,value) in zip(range(0,len(possible_values['P'])),possible_values['P'])}\n",
    "    return dictionary\n",
    "\n",
    "\n",
    "def encode_dataset(dataset, dictionary):\n",
    "    # create reverse dict to translate in the other direction\n",
    "    reverse_dict = {}\n",
    "    reverse_dict['T'] = {key: value for (value,key) in dictionary['T'].items()}\n",
    "    reverse_dict['P'] = {key: value for (value,key) in dictionary['P'].items()}\n",
    "\n",
    "    encoded = {}\n",
    "    for label in list(dataset.keys()):\n",
    "        encoded[label] = {'T':[],'P':[]}\n",
    "        encoded[label]['T'] = [reverse_dict['T'][raw_t] for raw_t in dataset[label]['T']]\n",
    "        encoded[label]['P'] = [reverse_dict['P'][raw_p] for raw_p in dataset[label]['P']]\n",
    "    return encoded"
   ]
  },
  {
   "cell_type": "markdown",
   "metadata": {},
   "source": [
    "#### Create the possible_values list and save it in a json file"
   ]
  },
  {
   "cell_type": "code",
   "execution_count": 10,
   "metadata": {
    "scrolled": true
   },
   "outputs": [],
   "source": [
    "#possible_values = construct_possible_values(dataset)    \n",
    "#print(possible_values)"
   ]
  },
  {
   "cell_type": "markdown",
   "metadata": {},
   "source": [
    "#### Create the coded_list and save_it in a json file"
   ]
  },
  {
   "cell_type": "code",
   "execution_count": 11,
   "metadata": {
    "scrolled": false
   },
   "outputs": [
    {
     "name": "stdout",
     "output_type": "stream",
     "text": [
      "{'P': {0: 48, 1: 49, 2: 50, 3: 51, 4: 52, 5: 53, 6: 54, 7: 55, 8: 56, 9: 57, 10: 58, 11: 59, 12: 60, 13: 61, 14: 62, 15: 63, 16: 64, 17: 65, 18: 66, 19: 67, 20: 68, 21: 69, 22: 70, 23: 71, 24: 72, 25: 73, 26: 74, 27: 75, 28: 76, 29: 77, 30: 78, 31: 79, 32: 80, 33: 81, 34: 82, 35: 83, 36: 84, 37: 85, 38: 86, 39: 87, 40: 88, 41: 89, 42: 90, 43: 91, 44: 92, 45: 93, 46: 94}, 'T': {0: 15, 1: 19, 2: 28, 3: 38, 4: 43, 5: 48, 6: 58, 7: 68, 8: 78, 9: 88, 10: 104, 11: 108, 12: 118, 13: 148, 14: 158, 15: 178, 16: 198, 17: 208, 18: 211, 19: 218, 20: 228, 21: 238, 22: 239, 23: 278, 24: 298, 25: 308, 26: 318, 27: 335, 28: 348, 29: 358, 30: 398, 31: 418, 32: 458, 33: 468, 34: 478, 35: 479, 36: 558, 37: 598, 38: 638, 39: 691, 40: 698, 41: 708, 42: 718, 43: 798, 44: 838, 45: 938, 46: 948, 47: 958, 48: 959, 49: 1038, 50: 1078, 51: 1118, 52: 1198, 53: 1199, 54: 1278, 55: 1318, 56: 1428, 57: 1438, 58: 1678, 59: 1758, 60: 1918, 61: 2158, 62: 2398, 63: 2638, 64: 2878, 65: 3118, 66: 3358, 67: 3838}}\n"
     ]
    }
   ],
   "source": [
    "integer_dict = create_dictionary(dataset)\n",
    "print(integer_dict)"
   ]
  },
  {
   "cell_type": "code",
   "execution_count": 12,
   "metadata": {},
   "outputs": [],
   "source": [
    "# save dictionary\n",
    "with open('SavedData/ex2_dictionary.txt', 'w') as outfile:\n",
    "    json.dump(integer_dict, outfile)"
   ]
  },
  {
   "cell_type": "markdown",
   "metadata": {},
   "source": [
    "#### Translate the datafile pitch and duration sequences into integer sequence"
   ]
  },
  {
   "cell_type": "code",
   "execution_count": 13,
   "metadata": {},
   "outputs": [],
   "source": [
    "with open('SavedData/ex2_dictionary.txt') as json_data:\n",
    "    integer_dict = json.load(json_data)\n",
    "# convert JSON str keys into int keys\n",
    "integer_dict['T'] = {int(key):int(value) for key,value in integer_dict['T'].items()}\n",
    "integer_dict['P'] = {int(key):int(value) for key,value in integer_dict['P'].items()}"
   ]
  },
  {
   "cell_type": "code",
   "execution_count": 14,
   "metadata": {},
   "outputs": [
    {
     "name": "stdout",
     "output_type": "stream",
     "text": [
      "{'P': {0: 48, 1: 49, 2: 50, 3: 51, 4: 52, 5: 53, 6: 54, 7: 55, 8: 56, 9: 57, 10: 58, 11: 59, 12: 60, 13: 61, 14: 62, 15: 63, 16: 64, 17: 65, 18: 66, 19: 67, 20: 68, 21: 69, 22: 70, 23: 71, 24: 72, 25: 73, 26: 74, 27: 75, 28: 76, 29: 77, 30: 78, 31: 79, 32: 80, 33: 81, 34: 82, 35: 83, 36: 84, 37: 85, 38: 86, 39: 87, 40: 88, 41: 89, 42: 90, 43: 91, 44: 92, 45: 93, 46: 94}, 'T': {0: 15, 1: 19, 2: 28, 3: 38, 4: 43, 5: 48, 6: 58, 7: 68, 8: 78, 9: 88, 10: 104, 11: 108, 12: 118, 13: 148, 14: 158, 15: 178, 16: 198, 17: 208, 18: 211, 19: 218, 20: 228, 21: 238, 22: 239, 23: 278, 24: 298, 25: 308, 26: 318, 27: 335, 28: 348, 29: 358, 30: 398, 31: 418, 32: 458, 33: 468, 34: 478, 35: 479, 36: 558, 37: 598, 38: 638, 39: 691, 40: 698, 41: 708, 42: 718, 43: 798, 44: 838, 45: 938, 46: 948, 47: 958, 48: 959, 49: 1038, 50: 1078, 51: 1118, 52: 1198, 53: 1199, 54: 1278, 55: 1318, 56: 1428, 57: 1438, 58: 1678, 59: 1758, 60: 1918, 61: 2158, 62: 2398, 63: 2638, 64: 2878, 65: 3118, 66: 3358, 67: 3838}}\n"
     ]
    }
   ],
   "source": [
    "print(integer_dict)"
   ]
  },
  {
   "cell_type": "code",
   "execution_count": 15,
   "metadata": {},
   "outputs": [],
   "source": [
    "# compute translated dataset   \n",
    "coded_dataset = encode_dataset(dataset,integer_dict)"
   ]
  },
  {
   "cell_type": "code",
   "execution_count": 16,
   "metadata": {},
   "outputs": [],
   "source": [
    "#save coded dataset\n",
    "with open('SavedData/ex2_coded_dataset.txt', 'w') as outfile:\n",
    "    json.dump(coded_dataset, outfile)"
   ]
  },
  {
   "cell_type": "markdown",
   "metadata": {},
   "source": [
    "#### Show result"
   ]
  },
  {
   "cell_type": "code",
   "execution_count": 17,
   "metadata": {},
   "outputs": [],
   "source": [
    "with open('SavedData/ex2_coded_dataset.txt') as json_data:\n",
    "    coded_dataset = json.load(json_data)"
   ]
  },
  {
   "cell_type": "code",
   "execution_count": 21,
   "metadata": {},
   "outputs": [
    {
     "data": {
      "image/png": "[encoded data removed]",
      "text/plain": [
       "<Figure size 1080x360 with 1 Axes>"
      ]
     },
     "metadata": {
      "image/png": {
       "height": 335,
       "width": 898
      }
     },
     "output_type": "display_data"
    },
    {
     "data": {
      "image/png": "[encoded data removed]",
      "text/plain": [
       "<Figure size 1080x360 with 1 Axes>"
      ]
     },
     "metadata": {
      "image/png": {
       "height": 335,
       "width": 898
      }
     },
     "output_type": "display_data"
    },
    {
     "data": {
      "image/png": "[encoded data removed]",
      "text/plain": [
       "<Figure size 1080x360 with 1 Axes>"
      ]
     },
     "metadata": {
      "image/png": {
       "height": 335,
       "width": 888
      }
     },
     "output_type": "display_data"
    },
    {
     "data": {
      "image/png": "[encoded data removed]",
      "text/plain": [
       "<Figure size 1080x360 with 1 Axes>"
      ]
     },
     "metadata": {
      "image/png": {
       "height": 335,
       "width": 888
      }
     },
     "output_type": "display_data"
    }
   ],
   "source": [
    "for label in np.random.choice(list(dataset.keys()), 2):\n",
    "    simple_plot(dataset[label]['P'], dataset[label]['T'], \"Original Melody: %s\"%(label))\n",
    "    simple_plot(coded_dataset[label]['P'], dataset[label]['T'], \"Translated Melody: %s\"%(label))"
   ]
  },
  {
   "cell_type": "markdown",
   "metadata": {},
   "source": [
    "## Exercise 3: Data reprocessing\n",
    "### Description\n",
    "\n",
    "Before moving to the implementation of your RNN generative model of note transition, you will perform data exploration and modification. This step will allow your model to get the most out of your original data as well as ensuring some features such as transposition invariance. \n",
    "\n",
    "To further improve your model, you might want to reconsider your original data. Many different approaches can be undertaken. Here you are asked to implement the a rare event suppression method and transposition invariance.\n",
    "\n",
    "**Rare event suppression** If a unit in your network is associated to a duration that happens very rarely in your data, a possible simplification consists in removing the melodies conaining these rare events from your dataset. \n",
    "1. Plot and comment the histogram of durations in your entire dataset. Use the labels from the original duration values (rather than the integer representation). \n",
    "2. Based on your observations, remove from your dataset melodies containing very rare durations. Adjust the rejection threshold such that at most 5% of the melodies are dicarded with this step. \n",
    "3. Recompute the duration dictionary based on your filtered dataset and plot the new histogram of durations. \n",
    "\n",
    "**Transposition invariance** A melody is perceived similarly by the human ear if it's shifted up or down by a constant offset (see [transposition](https://en.wikipedia.org/wiki/Transposition_(music))). Here, you will force your model to be transposition invariant. For this you can choose to use one of two orthogonal methods. The first consists in transposing every melody into a common tonality (C Major/A minor). On the other hand, the second consists in transposing each melody in all possible keys. The second method will increase your dataset size by a factor bigger than 11! As the training time is directly related with the dataset size, to save computing time, we recomand that you implement the first option.\n",
    "\n",
    "***Pitch normalization*** \n",
    "1. Use the provided function to create a new dataset where all melodies are transposed to C Major/A minor. \n",
    "2. Plot the histograms of the pitches before and after transposition.\n",
    "\n",
    "Finally, you shoud recompute the tokenization step for your brand new filtered and normalized dataset."
   ]
  },
  {
   "cell_type": "markdown",
   "metadata": {},
   "source": [
    "### Solution"
   ]
  },
  {
   "cell_type": "code",
   "execution_count": 69,
   "metadata": {},
   "outputs": [],
   "source": [
    "def plot_histogram(data_list, title):\n",
    "    plt.figure(figsize=(15, 5))\n",
    "    plt.hist([x for x in data_list],bins=30);\n",
    "    plt.title(title);"
   ]
  },
  {
   "cell_type": "markdown",
   "metadata": {},
   "source": [
    "#### Rare event suppression"
   ]
  },
  {
   "cell_type": "code",
   "execution_count": 77,
   "metadata": {},
   "outputs": [
    {
     "data": {
      "image/png": "[encoded data removed]",
      "text/plain": [
       "<Figure size 1080x360 with 1 Axes>"
      ]
     },
     "metadata": {
      "image/png": {
       "height": 319,
       "width": 909
      }
     },
     "output_type": "display_data"
    },
    {
     "data": {
      "image/png": "[encoded data removed]",
      "text/plain": [
       "<Figure size 1080x360 with 1 Axes>"
      ]
     },
     "metadata": {
      "image/png": {
       "height": 319,
       "width": 909
      }
     },
     "output_type": "display_data"
    }
   ],
   "source": [
    "# make a list with all ticks of the dataset\n",
    "tick_list = []\n",
    "for label in list(dataset.keys()):\n",
    "    tick_list.extend(dataset[label]['T'])\n",
    "\n",
    "# plot histogram\n",
    "plot_histogram(tick_list, \"Tick Occurences\")\n",
    "plt.xlim((0,1000));\n",
    "plot_histogram(tick_list, \"Tick Occurences\")\n",
    "plt.xlim((1000,4000));"
   ]
  },
  {
   "cell_type": "markdown",
   "metadata": {},
   "source": [
    "We see on the histogram that most of the durations are between 0 and 750 ticks and that most tick duration occur more than 100'000 times. Also, there are a lot of different durations that occurs only a very small amount of time between 1000 and 4000 ticks."
   ]
  },
  {
   "cell_type": "code",
   "execution_count": 59,
   "metadata": {},
   "outputs": [
    {
     "name": "stdout",
     "output_type": "stream",
     "text": [
      "Discarded Melodies: 4.828490%\n"
     ]
    }
   ],
   "source": [
    "threshold = 160\n",
    "# create a copy of dataset, to keep the original one untouched\n",
    "new_dataset = dict(dataset)\n",
    "\n",
    "# make list with all ticks occruring less times than *threshold*:\n",
    "# first, we need to count tick occurences\n",
    "tick_count = {}\n",
    "for t in tick_list:\n",
    "    if t in tick_count.keys():\n",
    "        tick_count[t] = tick_count[t]+1\n",
    "    else:\n",
    "        tick_count[t] = 1;\n",
    "# make the list\n",
    "rare_event = [t for t in tick_count.keys() if tick_count[t] < threshold]\n",
    "\n",
    "# remove each melody that have one of the duration in *rare_event*\n",
    "for label in list(new_dataset.keys()):\n",
    "    for t in new_dataset[label]['T']:\n",
    "        if t in rare_event:\n",
    "            del new_dataset[label]\n",
    "            break\n",
    "            \n",
    "# compare dataset length with original one\n",
    "print(\"Discarded Melodies: %f%%\"%((len(dataset)-len(new_dataset))/len(dataset)*100))"
   ]
  },
  {
   "cell_type": "code",
   "execution_count": 60,
   "metadata": {},
   "outputs": [
    {
     "data": {
      "image/png": "[encoded data removed]",
      "text/plain": [
       "<Figure size 1080x360 with 1 Axes>"
      ]
     },
     "metadata": {
      "image/png": {
       "height": 319,
       "width": 879
      }
     },
     "output_type": "display_data"
    }
   ],
   "source": [
    "# plot histogram\n",
    "tick_list = []\n",
    "for label in list(new_dataset.keys()):\n",
    "    tick_list.extend(dataset[label]['T'])    \n",
    "plot_histogram(tick_list, \"Tick Occurences after supression\")"
   ]
  },
  {
   "cell_type": "markdown",
   "metadata": {},
   "source": [
    "#### Transposition invariance (Pitch normalization)"
   ]
  },
  {
   "cell_type": "code",
   "execution_count": null,
   "metadata": {
    "scrolled": true
   },
   "outputs": [],
   "source": [
    "def transposeDataset(dataset):\n",
    "    transposed_dataset = {}\n",
    "\n",
    "    for label in list(dataset.keys()):\n",
    "        transposed_dataset[label] = {}\n",
    "        score = music21.converter.parse(datapath+label+\".mid\")\n",
    "        key = score.analyze('key')\n",
    "        if key.mode == \"major\":\n",
    "            i = music21.interval.Interval(key.tonic, music21.pitch.Pitch('C'))\n",
    "        elif key.mode == \"minor\":\n",
    "            i = music21.interval.Interval(key.tonic, music21.pitch.Pitch('A'))\n",
    "        i = i.semitones\n",
    "        transposed_dataset[label]['P'] = [p+i for p in dataset[label]['P']]\n",
    "        transposed_dataset[label]['T'] = dataset[label]['T']\n",
    "        \n",
    "    return transposed_dataset"
   ]
  },
  {
   "cell_type": "code",
   "execution_count": null,
   "metadata": {},
   "outputs": [],
   "source": [
    "# plot histogram\n",
    "pitch_list = []\n",
    "for label in list(new_dataset.keys()):\n",
    "    pitch_list.extend(dataset[label]['P'])\n",
    "plot_histogram(pitch_list, \"Pitch distribution\")"
   ]
  },
  {
   "cell_type": "code",
   "execution_count": null,
   "metadata": {},
   "outputs": [],
   "source": [
    "# oh c'est long...\n",
    "new_dataset = transposeDataset(dataset)"
   ]
  },
  {
   "cell_type": "code",
   "execution_count": null,
   "metadata": {},
   "outputs": [],
   "source": [
    "# plot histogram\n",
    "pitch_list = []\n",
    "for label in list(new_dataset.keys()):\n",
    "    pitch_list.extend(dataset[label]['P'])\n",
    "plot_histogram(pitch_list, \"Pitch distribution after normalization\")"
   ]
  },
  {
   "cell_type": "code",
   "execution_count": null,
   "metadata": {},
   "outputs": [],
   "source": [
    "#save new dataset\n",
    "with open('SavedData/ex3_new_dataset.txt', 'w') as outfile:\n",
    "    json.dump(new_dataset, outfile)"
   ]
  },
  {
   "cell_type": "markdown",
   "metadata": {},
   "source": [
    "**Question**: How much did you reduce the space of possible durations with your rare event suppression procedure? What is the impact in term of training time?\n",
    "    \n",
    "**Answer**: We excluded all the durations that occurs less than 200 times in the dataset.\n",
    "\n",
    "**Question**: Explain why and how both transposition to a single tonality and to all possible tonalities can yield transposition invariance in your model. \n",
    "\n",
    "**Answer**: \n",
    "\n",
    "**Question**: In terms of number of dimensions, what would have been the impact of keeping the joint represenation of a note duration and pitch (vs separating the two features)? \n",
    "\n",
    "**Answer**: \n",
    "\n",
    "**Question**: How would the distribution of notes in the joint representation differ from the distributions in the pitch and duration only representations (as shown by your histograms above)?\n",
    "\n",
    "**Answer**:"
   ]
  },
  {
   "cell_type": "markdown",
   "metadata": {},
   "source": [
    "## Exercise 4: One-hot and zero-padding\n",
    "### Description\n",
    "\n",
    "The last few steps to be able to feed (note by note) your music scores to a RNN model are\n",
    "1. Transform the sequence of integers into a sequence of vectors in the one-hot encoding scheme.\n",
    "2. Homegenize the length of each sequence\n",
    "\n",
    "**One-hot encode** You can implement your own integer to one-hot code. For this use the numpy library and the suitable datatype. Alternatively, Keras provides a [built in one-hot encoding scheme](https://keras.io/utils/#to_categorical). After this step, for each melody, you should have two similar length matrices with one representing the sequence of note pitches and the other the sequence of note durations.\n",
    "1. Code the integer representation into matrices of one-hot vectors\n",
    "\n",
    "**Zero-padding** Most deep learning libraries, including Keras, require that you specify the shape of the input data. As such, you cannot have variable length inputs per-se. The trick to handle them is [zero-padding](https://keras.io/preprocessing/sequence/#pad_sequences). Provided with the [Masking Layer](https://keras.io/layers/core/#masking) Keras will then ignore time steps where all inputs are 0.\n",
    "1. Extend the end of each melody matrices with vectors containing only zeros until all melodies have the same size. For simplicity, use the Keras pad_sequences function. There might be some rare very long melodies in your dataset, a possible choice is to set the 'maxlen' argument of pad_sequences to the mean+2std of the melody lengths. This ensure that 95% of your melodies would end before being truncated.\n",
    "2. Check and display the dimension of the resulting tensors. Typically, the tensor representing the sequence of pitches should be of shape [number of melodies x number of notes x number of entries in the pitch dictionary] and the tensor representing the sequence of durations [number of melodies x number of notes x number of entries in the duration dictionary]\n",
    "\n",
    "To check if this step was done correctly use the provided plotMelody function. For two randomly selected melodies, call the plotMelody function before and after one-hot/zero-pad. You should obtain the same plots (or slightly truncated if you randomly selected one belonging to 5% longest).\n",
    "\n",
    "Finally, we strongly suggest that you save your preprocessed data now."
   ]
  },
  {
   "cell_type": "markdown",
   "metadata": {},
   "source": [
    "### Solution"
   ]
  },
  {
   "cell_type": "code",
   "execution_count": null,
   "metadata": {},
   "outputs": [],
   "source": [
    "with open('SavedData/ex3_new_dataset.txt') as json_data:\n",
    "    new_dataset = json.load(json_data)\n",
    "\n",
    "new_integer_dict = create_dictionary(new_dataset)\n",
    "coded_dataset = encode_dataset(new_dataset, new_integer_dict)"
   ]
  },
  {
   "cell_type": "markdown",
   "metadata": {},
   "source": [
    "#### One-hot encode"
   ]
  },
  {
   "cell_type": "code",
   "execution_count": null,
   "metadata": {},
   "outputs": [],
   "source": [
    "hot_dataset = {}\n",
    "for label in list(coded_dataset.keys()):    \n",
    "    hot_dataset[label] = {'P':[],'T':[]}\n",
    "    hot_dataset[label]['P'] = to_categorical(coded_dataset[label]['P'], num_classes = len(new_integer_dict['P']))\n",
    "    hot_dataset[label]['T'] = to_categorical(coded_dataset[label]['T'], num_classes = len(new_integer_dict['T']))"
   ]
  },
  {
   "cell_type": "markdown",
   "metadata": {},
   "source": [
    "#### Zero-padding"
   ]
  },
  {
   "cell_type": "code",
   "execution_count": null,
   "metadata": {},
   "outputs": [],
   "source": [
    "# find mean and std of melody length\n",
    "sum_ = 0\n",
    "for label in list(coded_dataset.keys()):\n"
   ]
  },
  {
   "cell_type": "code",
   "execution_count": null,
   "metadata": {},
   "outputs": [],
   "source": [
    "# zero-padding\n",
    "p_sequence = [p for p in hot_dataset[label]['P'] for label in list(coded_dataset.keys())]\n",
    "t_sequence = [t for t in hot_dataset[label]['T'] for label in list(coded_dataset.keys())]\n",
    "\n",
    "final_dataset = {}\n",
    "final_dataset['P'] = pad_sequences(p_sequence, maxlen=None, dtype='int32', padding='post', truncating='post', value=0.0)\n",
    "final_dataset['T'] = pad_sequences(t_sequence, maxlen=None, dtype='int32', padding='post', truncating='post', value=0.0)"
   ]
  },
  {
   "cell_type": "code",
   "execution_count": null,
   "metadata": {},
   "outputs": [],
   "source": [
    "final_dataset['P']"
   ]
  },
  {
   "cell_type": "code",
   "execution_count": null,
   "metadata": {},
   "outputs": [],
   "source": [
    "#save final dataset\n",
    "with open('SavedData/ex4_final_dataset.txt', 'w') as outfile:\n",
    "    json.dump(final_dataset, outfile)"
   ]
  },
  {
   "cell_type": "markdown",
   "metadata": {},
   "source": [
    "## Exercise 5: Building and training a generative model of  note transition with the Keras functional API\n",
    "### Description\n",
    "\n",
    "The Keras Sequential model is very efficient for fast prototyping, however suffers from a lack of design liberty. The Keras Functional API is only slightly more complex but allows for more control on the different parts of your model. You will be using the Functional API for the rest of this project. Please read carefully the [documentation](https://keras.io/getting-started/sequential-model-guide/). \n",
    "\n",
    "Here, you will be constructing your RNN model of note transition. To achieve that, your model should be trained to approximate the probability distribution of the upcoming note (observed as two output softmax layers - one for pitch and one for duration) given the current note (given as input) and the model internal representation of the history of notes (its hidden state). To achieve that, set the Keras RNN layer argument \"return_sequences\" to True when building your model. Doing this will give you an output for each note, rather than a single output at the end of the sequence. During training, the target at each time step is the next note pitch and duration.\n",
    "\n",
    "You are free to use your own architecture but make sure to use at least 128 hidden units, Masking, and dropout to prevent overfitting. Your model should have two output (softmax) layers, one related to the pitch predictions that you should name `YP`, and the other related to the duration predictions `YT`. You should monitor both the loss (categorical_crossentropy) and the accuracy. For your best model, you should reach 40%/75% accuracy on the pitch/duration predictions.\n",
    "\n",
    "1. Train your first model composed of SimpleRNN cells for min 250 epochs and save the model/parameters that lead to the higher accuracy on the validating set. Use a validation split of 0.2. Try  If you correctly named the output layers (`YP` and `YT`) use the provided `plotLearningCurves(History)` function to plot the learning curves by giving the History object returned by the Keras fit function as argument.  \n",
    "2. Train a second model where you replaced the SimpleRNN units with GRUs (LSTM unit equivalent that requires less parameters). Make sure you use the same hyperparameters as before. Plot the learning curves.\n",
    "3. On a single plot, adapt the `plotLearningCurves(History)` function to compare the validation learning curves of the simpleRNN and GRU models. In other words, plot the validation loss vs epoch for pitch/duration for the simpleRNN and GRU models. Do the same for accuracies.\n"
   ]
  },
  {
   "cell_type": "markdown",
   "metadata": {},
   "source": [
    "### Solution"
   ]
  },
  {
   "cell_type": "code",
   "execution_count": null,
   "metadata": {},
   "outputs": [],
   "source": [
    "def buildModel(dictionaries, batch_length, dropout=0.2, activation='GRU', Hsize=128):\n",
    "    X = dict()\n",
    "    H = dict()\n",
    "    M = dict()\n",
    "    Y = dict()\n",
    "    \n",
    "    X['T'] = Input(shape=(batch_length, len(dictionaries['T'])), name=\"XT\")\n",
    "    X['P'] = Input(shape=(batch_length, len(dictionaries['P'])), name=\"XP\")\n",
    "    \n",
    "    M['T'] = Masking(mask_value=0., name=\"MT\")(X['T'])\n",
    "    M['P'] = Masking(mask_value=0., name=\"MP\")(X['P'])\n",
    "    \n",
    "    H['1'] = Concatenate(name=\"MergeX\")([M['T'], M['P']])\n",
    "    if activation == 'GRU':\n",
    "        #Your hidden layer(s) architecture with GRU\n",
    "    elif activation == 'LSTM':\n",
    "        #Your hidden layer(s) architecture with LSTM (For your own curiosity, not required for the project)\n",
    "    elif activation == 'RNN':\n",
    "        #Your hidden layer(s) architecture with SimpleRNN\n",
    "\n",
    "    Y['T'] = TimeDistributed(Dense(len(dictionaries['T']), activation='softmax'), name='YT')(#Input(s) to duration output layer)\n",
    "    Y['P'] = TimeDistributed(Dense(len(dictionaries['P']), activation='softmax'), name='YP')(#Input(s) to pitch output layer)\n",
    "    \n",
    "    model = Model(inputs = [X['T'], X['P']], outputs = [Y['T'], Y['P']])\n",
    "    opt = Adam() \n",
    "    model.compile(\n",
    "        loss='categorical_crossentropy', \n",
    "        optimizer=opt,\n",
    "        metrics=['acc'])\n",
    "    \n",
    "    \n",
    "    return model\n",
    "\n",
    "RNNmodel = buildModel(dictionaries, \n",
    "                      batch_length=,#Put here the number of notes (timesteps) you have in your Zero-padded matrices\n",
    "                      activation='RNN')\n",
    "RNNmodel.summary()"
   ]
  },
  {
   "cell_type": "markdown",
   "metadata": {},
   "source": [
    "**Question**: What are the best prediction accuracies you obtained? With which model?\n",
    "    \n",
    "**Answer**: \n",
    "\n",
    "**Question**: In a few sentences, comment on the plot comparing learning curves for the two activation function.\n",
    "    \n",
    "**Answer**: \n",
    "\n"
   ]
  },
  {
   "cell_type": "markdown",
   "metadata": {
    "collapsed": true
   },
   "source": [
    "## Exercise 6: Visualizing the model\n",
    "### Description\n",
    "\n",
    "1. Using the model.predict and plotMelody functions, show the outputs of your best model when fed with 4 randomly selected melodies. Report the prediction accuracies as well.\n",
    "2. For the same melodies, plot the hidden state evolution accross time steps. Construct a 2 dimensional matrix with the first dimension being time and the second the concatenation of all hidden unit activations and plot it using the provided `plotMelody` function. To get the hidden states of your network, you can modify the `buildModel` function so that you have another computation graph (another model with the same layers, but the output layer) returning you the hidden states. However, other approaches are equally valid.  \n",
    "3. For each hidden unit $i$ and accross the entire dataset, compute the average absolute change in activation $\\Delta A_i$. Be careful not to take masked timesteps into account. Plot the histogram (50 bins) of this average for the RNN and GRU models on the same figure."
   ]
  },
  {
   "cell_type": "markdown",
   "metadata": {},
   "source": [
    "### Solution"
   ]
  },
  {
   "cell_type": "code",
   "execution_count": null,
   "metadata": {},
   "outputs": [],
   "source": []
  },
  {
   "cell_type": "markdown",
   "metadata": {},
   "source": [
    "**Question**: How does the hidden state dynamics explain the performance of the RNN vs GRU models? Explain in term of temporal dependencies and base your explanation on figures obtained in 6.2 and 6.3.\n",
    "    \n",
    "**Answer**: \n"
   ]
  },
  {
   "cell_type": "markdown",
   "metadata": {
    "collapsed": true
   },
   "source": [
    "## Exercise 7: Generation of new melodies\n",
    "### Description\n",
    "\n",
    "1. Use your trained best model to generate new melodies. You can do that by starting with a random note, feeding it to your network and sample the output predictions in order to select the next note. Then add this note to your iteratively growing melodies. For your convenience, we provided the `sample` and `writeMIDI` functions. You can use the first in order to perform temperature sampling. The `writeMIDI` function allows you to write a MIDI file from the integer representation.\n",
    "2. Try different sampling temperatures (e.g. 0.5, 1., 1.5) and observe the effect on your generated melodies.\n",
    "3. Generate 32 melodies with both the RNN and GRU models\n",
    "4. Listen to 4 randomly chosen melodies (2 from the GRU model and 2 from the RNN model). To play in a notebook, use a similar approach as the one shown below assuming you have the files `GRU_1.mid` and `RNN_1.mid` at the same level as this notebook. For your own curiosity, you can also directly listen to the MIDI files with your favorite MIDI player but make sure that we can listen to the 4 extracts directly from this notebook (without rerunning it). You might have to use the \"Trust notebook\" button (in the top right corner) to see the players. This currently only works in jupyter notebook (not jupyter lab). If you have trouble achieving that, upload the MIDI files with your submission.\n",
    "5. (Optional) If you have a big enough computing power, try adding multiple and bigger layers. You could also try to improve your model with different add-ons, e.g. make your model learn when a melody ends, extend it to other datasets, ...\n",
    "6. (Optional) If you are happy with your results submit a 1 hour long generated MIDI file to the [AI-generated music challenge](https://www.crowdai.org/challenges/ai-generated-music-challenge). "
   ]
  },
  {
   "cell_type": "markdown",
   "metadata": {},
   "source": [
    "### Solution"
   ]
  },
  {
   "cell_type": "code",
   "execution_count": null,
   "metadata": {},
   "outputs": [],
   "source": [
    "print('GRU')\n",
    "music21.midi.translate.midiFilePathToStream('GRU_1.mid').show('midi')"
   ]
  },
  {
   "cell_type": "code",
   "execution_count": null,
   "metadata": {},
   "outputs": [],
   "source": [
    "print('RNN')\n",
    "music21.midi.translate.midiFilePathToStream('RNN_1.mid').show('midi')"
   ]
  },
  {
   "cell_type": "markdown",
   "metadata": {},
   "source": [
    "**Question**: What is the effect of the sampling temperature on the generated melodies?\n",
    "    \n",
    "**Answer**: \n",
    "\n",
    "**Question**: Are the generated melodies from the RNN model different from the one generated by the GRU model? If yes, what are the main differences?\n",
    "\n",
    "**Answer**: \n",
    "\n"
   ]
  }
 ],
 "metadata": {
  "anaconda-cloud": {},
  "kernelspec": {
   "display_name": "Python 3",
   "language": "python",
   "name": "python3"
  },
  "language_info": {
   "codemirror_mode": {
    "name": "ipython",
    "version": 3
   },
   "file_extension": ".py",
   "mimetype": "text/x-python",
   "name": "python",
   "nbconvert_exporter": "python",
   "pygments_lexer": "ipython3",
   "version": "3.5.2"
  }
 },
 "nbformat": 4,
 "nbformat_minor": 1
}
